{
 "cells": [
  {
   "cell_type": "markdown",
   "metadata": {},
   "source": [
    "## 1. 필요한 모듈을 불러온다."
   ]
  },
  {
   "cell_type": "code",
   "execution_count": 1,
   "metadata": {},
   "outputs": [
    {
     "name": "stderr",
     "output_type": "stream",
     "text": [
      "/Users/ku/anaconda3/lib/python3.6/site-packages/h5py/__init__.py:36: FutureWarning: Conversion of the second argument of issubdtype from `float` to `np.floating` is deprecated. In future, it will be treated as `np.float64 == np.dtype(float).type`.\n",
      "  from ._conv import register_converters as _register_converters\n"
     ]
    }
   ],
   "source": [
    "from IPython.core.interactiveshell import InteractiveShell\n",
    "InteractiveShell.ast_node_interactivity = \"all\"\n",
    "\n",
    "import tensorflow as tf\n",
    "import numpy as np\n",
    "import pandas as pd\n",
    "from pprint import pprint\n",
    "from cus_tool_copy import *\n",
    "from tqdm import tqdm\n",
    "\n",
    "tf.reset_default_graph() # 텐서플로우 그래프를 초기화 한다."
   ]
  },
  {
   "cell_type": "markdown",
   "metadata": {},
   "source": [
    "## 2. corpus를 불러오고 차원을 확인 해 본다."
   ]
  },
  {
   "cell_type": "code",
   "execution_count": 2,
   "metadata": {},
   "outputs": [
    {
     "name": "stdout",
     "output_type": "stream",
     "text": [
      "array([['dallas take off', ' plane take off from dallas'],\n",
      "       ['dallas land', ' plane land at dallas'],\n",
      "       ['chicago take off', ' plane take off from chicago'],\n",
      "       ['chicago land', ' plane land at chicago'],\n",
      "       ['los angeles take off', ' plane take off from los angeles'],\n",
      "       ['los angeles land', ' plane land at los angeles'],\n",
      "       ['new york take off', ' plane take off from new york'],\n",
      "       ['new york land', ' plane land at new york'],\n",
      "       ['miami take off', ' plane take off from miami'],\n",
      "       ['miami land', ' plane land at miami']], dtype=object)\n",
      "(10, 2)\n"
     ]
    }
   ],
   "source": [
    "corpus = pd.read_table(\"/Users/ku/Desktop/raw.csv\", delimiter=\",\").values\n",
    "pprint(corpus)\n",
    "pprint(corpus.shape)"
   ]
  },
  {
   "cell_type": "markdown",
   "metadata": {},
   "source": [
    "## 3. lookup table를 생성하고 이를 이용하여 데이터를 인덱스로 맵핑한다."
   ]
  },
  {
   "cell_type": "code",
   "execution_count": 3,
   "metadata": {},
   "outputs": [
    {
     "name": "stdout",
     "output_type": "stream",
     "text": [
      "vocab_size: 17 \n",
      "\n",
      "idx2word: \n",
      " {0: 'at', 1: 'off', 2: 'take', 3: 'miami', 4: 'plane', 5: 'york', 6: 'new', 7: 'land', 8: 'angeles', 9: 'chicago', 10: 'from', 11: 'los', 12: 'dallas', 13: '<start>', 14: '<end>', 15: '<pad>', 16: '<unk>'} \n",
      "\n",
      "word2idx: \n",
      " {'at': 0, 'off': 1, 'take': 2, 'miami': 3, 'plane': 4, 'york': 5, 'new': 6, 'land': 7, 'angeles': 8, 'chicago': 9, 'from': 10, 'los': 11, 'dallas': 12, '<start>': 13, '<end>': 14, '<pad>': 15, '<unk>': 16} \n",
      "\n",
      "temp_encoder_data: \n",
      " [[12, 2, 1], [12, 7], [9, 2, 1], [9, 7], [11, 8, 2, 1], [11, 8, 7], [6, 5, 2, 1], [6, 5, 7], [3, 2, 1], [3, 7]] \n",
      "\n",
      "temp_decoder_data: \n",
      " [[4, 2, 1, 10, 12], [4, 7, 0, 12], [4, 2, 1, 10, 9], [4, 7, 0, 9], [4, 2, 1, 10, 11, 8], [4, 7, 0, 11, 8], [4, 2, 1, 10, 6, 5], [4, 7, 0, 6, 5], [4, 2, 1, 10, 3], [4, 7, 0, 3]] \n",
      "\n",
      "temp_targetsr_data: \n",
      " [[4, 2, 1, 10, 12], [4, 7, 0, 12], [4, 2, 1, 10, 9], [4, 7, 0, 9], [4, 2, 1, 10, 11, 8], [4, 7, 0, 11, 8], [4, 2, 1, 10, 6, 5], [4, 7, 0, 6, 5], [4, 2, 1, 10, 3], [4, 7, 0, 3]] \n",
      "\n"
     ]
    }
   ],
   "source": [
    "idx2word, word2idx, vocab_size = make_vocab(corpus)\n",
    "temp_encoder_data, temp_decoder_data, temp_targets_data = make_temp_data(corpus,idx2word=idx2word, word2idx=word2idx)\n",
    "print('vocab_size: {} \\n'.format(vocab_size))\n",
    "print('idx2word: \\n {} \\n'.format(idx2word))\n",
    "print('word2idx: \\n {} \\n'.format(word2idx))\n",
    "\n",
    "print('temp_encoder_data: \\n {} \\n'.format(temp_encoder_data))\n",
    "print('temp_decoder_data: \\n {} \\n'.format(temp_decoder_data))\n",
    "print('temp_targetsr_data: \\n {} \\n'.format(temp_targets_data))"
   ]
  },
  {
   "cell_type": "markdown",
   "metadata": {},
   "source": [
    "## 4. 각 데이터에 pad, end 토큰을 삽입하여 최종적인 데이터를 만든다."
   ]
  },
  {
   "cell_type": "code",
   "execution_count": 4,
   "metadata": {},
   "outputs": [
    {
     "name": "stdout",
     "output_type": "stream",
     "text": [
      "dallas take off <pad>\n",
      "dallas land <pad> <pad>\n",
      "chicago take off <pad>\n",
      "chicago land <pad> <pad>\n",
      "los angeles take off\n",
      "los angeles land <pad>\n",
      "new york take off\n",
      "new york land <pad>\n",
      "miami take off <pad>\n",
      "miami land <pad> <pad>\n",
      "<start> plane take off from dallas <pad> <pad> <pad> <pad> <pad> <pad> <pad> <pad> <pad>\n",
      "<start> plane land at dallas <pad> <pad> <pad> <pad> <pad> <pad> <pad> <pad> <pad> <pad>\n",
      "<start> plane take off from chicago <pad> <pad> <pad> <pad> <pad> <pad> <pad> <pad> <pad>\n",
      "<start> plane land at chicago <pad> <pad> <pad> <pad> <pad> <pad> <pad> <pad> <pad> <pad>\n",
      "<start> plane take off from los angeles <pad> <pad> <pad> <pad> <pad> <pad> <pad> <pad>\n",
      "<start> plane land at los angeles <pad> <pad> <pad> <pad> <pad> <pad> <pad> <pad> <pad>\n",
      "<start> plane take off from new york <pad> <pad> <pad> <pad> <pad> <pad> <pad> <pad>\n",
      "<start> plane land at new york <pad> <pad> <pad> <pad> <pad> <pad> <pad> <pad> <pad>\n",
      "<start> plane take off from miami <pad> <pad> <pad> <pad> <pad> <pad> <pad> <pad> <pad>\n",
      "<start> plane land at miami <pad> <pad> <pad> <pad> <pad> <pad> <pad> <pad> <pad> <pad>\n",
      "plane take off from dallas <end> <pad> <pad> <pad> <pad> <pad> <pad> <pad> <pad> <pad>\n",
      "plane land at dallas <end> <pad> <pad> <pad> <pad> <pad> <pad> <pad> <pad> <pad> <pad>\n",
      "plane take off from chicago <end> <pad> <pad> <pad> <pad> <pad> <pad> <pad> <pad> <pad>\n",
      "plane land at chicago <end> <pad> <pad> <pad> <pad> <pad> <pad> <pad> <pad> <pad> <pad>\n",
      "plane take off from los angeles <end> <pad> <pad> <pad> <pad> <pad> <pad> <pad> <pad>\n",
      "plane land at los angeles <end> <pad> <pad> <pad> <pad> <pad> <pad> <pad> <pad> <pad>\n",
      "plane take off from new york <end> <pad> <pad> <pad> <pad> <pad> <pad> <pad> <pad>\n",
      "plane land at new york <end> <pad> <pad> <pad> <pad> <pad> <pad> <pad> <pad> <pad>\n",
      "plane take off from miami <end> <pad> <pad> <pad> <pad> <pad> <pad> <pad> <pad> <pad>\n",
      "plane land at miami <end> <pad> <pad> <pad> <pad> <pad> <pad> <pad> <pad> <pad> <pad>\n"
     ]
    }
   ],
   "source": [
    "encoder_data, decoder_data, targets_data, max_decoder_steps = insert_tokens(temp_encoder_data, temp_decoder_data, temp_targets_data, word2idx)\n",
    "data_checker(encoder_data, idx2word)\n",
    "data_checker(decoder_data, idx2word)\n",
    "data_checker(targets_data, idx2word)"
   ]
  },
  {
   "cell_type": "markdown",
   "metadata": {},
   "source": [
    "## 5. mask를 사용하기 위해서 sequence_length를 구한다."
   ]
  },
  {
   "cell_type": "code",
   "execution_count": 5,
   "metadata": {},
   "outputs": [
    {
     "name": "stdout",
     "output_type": "stream",
     "text": [
      "[3, 2, 3, 2, 4, 3, 4, 3, 3, 2]\n",
      "[6, 5, 6, 5, 7, 6, 7, 6, 6, 5]\n"
     ]
    }
   ],
   "source": [
    "encoder_sequence_length = sequence_length_maker(encoder_data, word2idx)\n",
    "decoder_sequence_length = sequence_length_maker(decoder_data, word2idx)\n",
    "print(encoder_sequence_length)\n",
    "print(decoder_sequence_length)"
   ]
  },
  {
   "cell_type": "markdown",
   "metadata": {},
   "source": [
    "## 6. 하이퍼파라미터를 정의한다."
   ]
  },
  {
   "cell_type": "markdown",
   "metadata": {},
   "source": [
    "버퍼사이즈 레퍼런스\n",
    "https://stackoverflow.com/questions/46444018/meaning-of-buffer-size-in-dataset-map-dataset-prefetch-and-dataset-shuffle"
   ]
  },
  {
   "cell_type": "code",
   "execution_count": 6,
   "metadata": {},
   "outputs": [],
   "source": [
    "## 3. 하이퍼파라미터를 설정한다.\n",
    "class_size = vocab_size\n",
    "batch_size = 3\n",
    "lr = 0.01\n",
    "hidden_size = 128\n",
    "epochs = 100\n",
    "save_per_ckpt = 10\n",
    "num_layer = 1 # stacked RNN을 위한 하이퍼파라미터. 몇개의 레이어를 쌓을지 정해준다."
   ]
  },
  {
   "cell_type": "markdown",
   "metadata": {},
   "source": [
    "## 7. 모델을 클래스로 정의한다."
   ]
  },
  {
   "cell_type": "code",
   "execution_count": 7,
   "metadata": {},
   "outputs": [],
   "source": [
    "## seq2seq 모델을 만든다.\n",
    "\n",
    "class Object2Text:\n",
    "    '''\n",
    "    Arguments:\n",
    "        btc_enc_seq_len: placeholder([None,]), 인코더 부분의 패딩을 제외한 실제 의미를 가지는 토큰의 개수를 배치별로 나타냄.\n",
    "        btc_enc_inp: placeholder([None, None]), 인코더의 인풋(batch size, time steps)\n",
    "        btc_dec_seq_len: placeholder([None,]), 디코더 부분의 패딩을 제외한 실제 의미를 가지는 토큰의 개수를 배치별로 나타냄.\n",
    "        btc_dec_inp: placeholder([Noen, None]), 디코더의 인풋(batch size, time steps)\n",
    "        btc_targets: placeholder([None, None]), groud truth(batch size, time steps)\n",
    "        word2idx: dictionary, '단어'를 키 값으로 조회하면 그에 해당하는 인덱스를 돌려주는 딕셔너리.\n",
    "        idx2word: dictionary, '인덱스'를 키 값으로 조회하면 그에 해당하는 인덱스를 돌려주는 딕셔너리.\n",
    "        vocab_size: scalar, 단어사전의 크기(단어사전에 있는 단어의 개수)\n",
    "        class_size: scalar, 디코더의 아웃풋을 fully connected 레이어와 연결하여 최종적으로 몇개의 클래스로 나타낼지 결정. 일반적으로 vocab size와 같게 하면 된다.\n",
    "        hidden_size: scalar, seq2seq 모델의 히든 유닛의 개수\n",
    "    '''\n",
    "    \n",
    "    def __init__(self, btc_enc_seq_len, btc_enc_inp, btc_dec_seq_len, btc_dec_inp, btc_targets, word2idx=word2idx, idx2word=idx2word, \n",
    "                     vocab_size=vocab_size, class_size=class_size, hidden_size=hidden_size, num_layer=num_layer, max_decoder_steps=max_decoder_steps):\n",
    "        \n",
    "        # 생성자의 인자들을 클래스멤버(?)로 만들어준다.\n",
    "        self._enc_seq_len = btc_enc_seq_len\n",
    "        self._enc_inp = btc_enc_inp\n",
    "        self._dec_seq_len = btc_dec_seq_len\n",
    "        self._dec_inp = btc_dec_inp\n",
    "        self._targets = btc_targets\n",
    "        self._word2idx = word2idx\n",
    "        self._idx2word = idx2word\n",
    "        self._vocab_size = vocab_size\n",
    "        self._class_size = class_size\n",
    "        self._hidden_size = hidden_size\n",
    "        self._num_layer = num_layer\n",
    "        self._max_decoder_steps = max_decoder_steps\n",
    "    \n",
    "        # 1) encoder의 인풋값을 ont-hot 인코딩(임베딩) 한다.\n",
    "        with tf.variable_scope('enc_embed_layer'):\n",
    "            encoder_oh = tf.one_hot(indices=self._enc_inp, depth=self._vocab_size) # encoder_oh: tensor, (batch_size, time steps, vocab_size)\n",
    "\n",
    "        #  2) encoder 셀을 쌓는다.\n",
    "        with tf.variable_scope('encoder'):\n",
    "            enc_cell = tf.contrib.rnn.BasicLSTMCell(num_units=self._hidden_size, activation=tf.nn.tanh)\n",
    "            enc_cell = tf.nn.rnn_cell.MultiRNNCell([enc_cell] * self._num_layer)\n",
    "            _outputs, enc_states = tf.nn.dynamic_rnn(cell=enc_cell, inputs=encoder_oh, sequence_length=self._enc_seq_len, dtype=tf.float32)\n",
    "\n",
    "        # 3) 디코더의 임베딩을 원-핫인코딩으로 한다. tf.one_hot 함수를 사용해서 원-핫 인코딩을 해도 되지만. 나중에 GreedyEmbeddingsHelper를 사용하기 위해서는 임베딩 매트릭스를 만들어 주어야 한다.\n",
    "        with tf.variable_scope('dec_embed_layer'):\n",
    "            decoder_eye = tf.eye(num_rows=self._vocab_size)\n",
    "            decoder_embeddings = tf.get_variable(name='dec_embed', initializer=decoder_eye, trainable=False) # tf.nn.embedding_lookup 함수를 사용하려면 tf.get_variable을 params의 값으로\n",
    "\n",
    "            #decoder_embeddings = tf.get_variable(name='dec_embed', initializer=decoder_eye, trainable=False) # tf.nn.embedding_lookup 함수를 사용하려면 tf.get_variable을 params의 값으로\n",
    "            decoder_oh = tf.nn.embedding_lookup(params=decoder_embeddings, ids=self._dec_inp)    \n",
    "\n",
    "        # 4) decoder 셀을 쌓는다.    \n",
    "        with tf.variable_scope('decoder'):\n",
    "            \n",
    "            # decoder cell for both training and inference(학습과 추론과정은 같은 '가중치'를 공유함.)\n",
    "            dec_cell = tf.contrib.rnn.BasicLSTMCell(self._hidden_size, activation=tf.nn.tanh)\n",
    "            dec_cell = tf.nn.rnn_cell.MultiRNNCell([dec_cell] * self._num_layer)\n",
    "            \n",
    "            # output projection (replacing `OutputProjectionWrapper`)\n",
    "            output_layer = tf.layers.Dense(vocab_size)\n",
    "#             score_cell = tf.contrib.rnn.OutputProjectionWrapper(cell=dec_cell, output_size=self._class_size)\n",
    "\n",
    "            # 4-1) decoder의 training과 관련된 셀을 쌓는다.\n",
    "            with tf.variable_scope('training'):\n",
    "                train_helper = tf.contrib.seq2seq.TrainingHelper(inputs=decoder_oh, sequence_length=self._dec_seq_len, time_major=False)\n",
    "                train_decoder = tf.contrib.seq2seq.BasicDecoder(cell=dec_cell, helper=train_helper, initial_state=enc_states, output_layer=output_layer)\n",
    "                \n",
    "                # self._train_outputs.rnn_output: [batch_size x max(self._max_decoder_steps) x vocab_size]\n",
    "                # => 각 배치에서 가장 '긴' 값을 2번째 차원의 값으로 가진다는 점을 주의!! seq2seq2 loss 함수를 사용할 때 shape에 주의해야 한다.\n",
    "                # => bucketing과 연관이 있는 것 같은데.... 확실하지는 않다...\n",
    "                self._train_outputs, _, _ = tf.contrib.seq2seq.dynamic_decode(decoder=train_decoder, impute_finished=True, output_time_major=False, \n",
    "                                                                                                                maximum_iterations=self._max_decoder_steps)\n",
    "                \n",
    "                # logits: [batch_size x max_dec_step x dec_vocab_size]\n",
    "                # => tf.identity: seq2seq 함수에서 logits에 들어갈 값 선언. tf.identity는 tensor의 contents와 shape를 똑같이 copy한다.\n",
    "                logits = tf.identity(self._train_outputs.rnn_output, name='logits')\n",
    "                \n",
    "                # btc_max_len: => logits의 shape에 맞춰주기 위함!!\n",
    "                # => decoder input \"배치\" 중에서  최대 sequence length(의미 있는 인풋이 들어오는 time step)\n",
    "                btc_max_len = tf.reduce_max(self._dec_seq_len, name='max_dec_len')\n",
    "                \n",
    "                # targets: \n",
    "                targets = tf.slice(input_=self._targets, begin=[0, 0], size=[-1, btc_max_len], name='targets')\n",
    "                              \n",
    "\n",
    "            # 4-2) decoder의 inference와 관련된 셀을 쌓는다.\n",
    "            with tf.variable_scope('inference'):\n",
    "                # 모델의 input을 dynamic shape로 하였으므로.. tf.shape(btc_enc_seq_len)로 해야 한다. btc_enc_seq_len.shape는 static shape일 때 사용 하는 것이다.\n",
    "                start_tokens = tf.fill(dims=tf.shape(btc_enc_seq_len), value=self._word2idx['<start>'])\n",
    "\n",
    "                infer_helper = tf.contrib.seq2seq.GreedyEmbeddingHelper(embedding=decoder_embeddings, \n",
    "                                                                                                              start_tokens=start_tokens, \n",
    "                                                                                                              end_token=self._word2idx['<end>'])\n",
    "                infer_decoder = tf.contrib.seq2seq.BasicDecoder(cell=dec_cell, helper=infer_helper, initial_state=enc_states, output_layer=output_layer)\n",
    "                self._infer_outputs, _, _ = tf.contrib.seq2seq.dynamic_decode(infer_decoder, impute_finished=True, maximum_iterations=self._max_decoder_steps)\n",
    "        \n",
    "        with tf.variable_scope('seq2seq_loss'):\n",
    "            #masksing: [batch_size x max_dec_len]\n",
    "            #=> ignore outputs after `dec_senquence_length+1` when calculating loss\n",
    "            masking = tf.sequence_mask(lengths=self._dec_seq_len, maxlen=btc_max_len, dtype=tf.float32)\n",
    "                \n",
    "            #internal: `tf.nn.sparse_softmax_cross_entropy_with_logits`\n",
    "            self.seq2seq_loss = tf.contrib.seq2seq.sequence_loss(logits=logits, targets=targets, weights=masking)\n",
    "            \n",
    "    def infer(self, sess,  btc_enc_seq_len, btc_enc_inp):\n",
    "        feed_infer = {self._enc_seq_len: btc_enc_seq_len, self._enc_inp: btc_enc_inp}\n",
    "        return sess.run(self._infer_outputs.sample_id, feed_dict=feed_infer)            "
   ]
  },
  {
   "cell_type": "markdown",
   "metadata": {},
   "source": [
    "## 8. 배치 관련 설정을 한다."
   ]
  },
  {
   "cell_type": "code",
   "execution_count": 8,
   "metadata": {
    "scrolled": true
   },
   "outputs": [
    {
     "name": "stdout",
     "output_type": "stream",
     "text": [
      "<BatchDataset shapes: ((?,), (?, ?), (?,), (?, ?), (?, ?)), types: (tf.int32, tf.int32, tf.int32, tf.int32, tf.int32)>\n",
      "Tensor(\"IteratorGetNext:0\", shape=(?,), dtype=int32) Tensor(\"IteratorGetNext:1\", shape=(?, ?), dtype=int32) Tensor(\"IteratorGetNext:2\", shape=(?,), dtype=int32) Tensor(\"IteratorGetNext:3\", shape=(?, ?), dtype=int32) Tensor(\"IteratorGetNext:4\", shape=(?, ?), dtype=int32)\n"
     ]
    }
   ],
   "source": [
    "## 인풋, 타겟, sequence_length와 관련된 placeholder를 정의한다.\n",
    "encoder_input = tf.placeholder(dtype=tf.int32, shape=[None, None]) # (batch size, time steps)\n",
    "decoder_input = tf.placeholder(tf.int32, [None, None]) # (batch size, time steps)\n",
    "targets = tf.placeholder(tf.int32, [None, None]) # (batch size, time steps)\n",
    "encoder_seq_len = tf.placeholder(tf.int32, [None]) # (batch size, ) 인코더 배치에 대응하는 sequence_length\n",
    "decoder_seq_len = tf.placeholder(tf.int32, [None]) # (batch size,) 디코더 배치에 대응하는 sequence_length\n",
    "\n",
    "## 배치 iterator를 정의하여 학습시 사용할 준비를 한다.\n",
    "dataset = tf.data.Dataset.from_tensor_slices((encoder_seq_len, encoder_input, decoder_seq_len, decoder_input, targets)) # 여러 플레이스 홀더를 데이터셋으로 하고\n",
    "dataset = dataset.shuffle(10000).batch(batch_size) # 랜덤으로 데이터셋을 섞은 다음에 배치크기는 미리 정의된 만큼 할 생각이야.\n",
    "iterator = dataset.make_initializable_iterator() # 위와 같은 사항을 반영하여 전체 데이터셋에서 배치 크기만큼 반복적으로 꺼내올 수 있는 iterator를 만들어 줘.\n",
    "btc_enc_seq_len, btc_enc_inp, btc_dec_seq_len, btc_dec_inp, btc_targets  = iterator.get_next() # 배치를 꺼내오는 명령문은 next_batch로 할게. (sess.run에서 실행 시켜야 다음 배치를 꺼내온다.)\n",
    "# next_element = iterator.get_next() # 배치를 꺼내오는 명령문은 next_batch로 할게. (sess.run에서 실행 시켜야 다음 배치를 꺼내온다.)\n",
    "\n",
    "print(dataset)\n",
    "# print(next_element)\n",
    "print(btc_enc_seq_len, btc_enc_inp, btc_dec_seq_len, btc_dec_inp, btc_targets)"
   ]
  },
  {
   "cell_type": "markdown",
   "metadata": {},
   "source": [
    "## 9. object2text 클래스를 생성한다."
   ]
  },
  {
   "cell_type": "code",
   "execution_count": 9,
   "metadata": {},
   "outputs": [],
   "source": [
    "object2text = Object2Text(btc_enc_seq_len, btc_enc_inp, btc_dec_seq_len, btc_dec_inp, btc_targets)"
   ]
  },
  {
   "cell_type": "markdown",
   "metadata": {},
   "source": [
    "## 10. optimizer를 정의하고 모델을 학습시킨다."
   ]
  },
  {
   "cell_type": "code",
   "execution_count": 10,
   "metadata": {},
   "outputs": [],
   "source": [
    "train_op = tf.train.AdamOptimizer(lr).minimize(object2text.seq2seq_loss)"
   ]
  },
  {
   "cell_type": "code",
   "execution_count": 11,
   "metadata": {},
   "outputs": [
    {
     "name": "stderr",
     "output_type": "stream",
     "text": [
      "\r",
      "  0%|          | 0/100 [00:00<?, ?it/s]"
     ]
    },
    {
     "name": "stdout",
     "output_type": "stream",
     "text": [
      "Epoch: 0\n"
     ]
    },
    {
     "name": "stderr",
     "output_type": "stream",
     "text": [
      "  6%|▌         | 6/100 [00:00<00:06, 14.29it/s]"
     ]
    },
    {
     "name": "stdout",
     "output_type": "stream",
     "text": [
      "2.8339288\n",
      "2.7643921\n",
      "2.6500144\n",
      "2.4935522\n",
      "Epoch: 1\n",
      "2.6229265\n",
      "2.1464653\n",
      "2.1503894\n",
      "2.1246612\n",
      "Epoch: 2\n",
      "1.8885605\n",
      "1.6242279\n",
      "1.5329415\n",
      "1.2729223\n",
      "Epoch: 3\n",
      "1.0690578\n",
      "0.99697924\n",
      "1.022404\n",
      "0.8140662\n",
      "Epoch: 4\n",
      "0.9250781\n",
      "0.73272216\n",
      "1.1178355\n",
      "0.8666382\n",
      "Epoch: 5\n",
      "0.9391855\n",
      "0.6121753\n",
      "0.6580689\n",
      "0.6126131\n",
      "Epoch: 6\n",
      "0.56777906\n",
      "0.6083157\n",
      "0.58363575\n",
      "1.0477909\n",
      "Epoch: 7\n",
      "0.45639148\n",
      "0.52411234\n",
      "0.62947613\n",
      "0.4725864\n",
      "Epoch: 8\n",
      "0.3514487\n",
      "0.5558199\n",
      "0.4320736\n",
      "0.7163065\n",
      "Epoch: 9\n",
      "0.49528563\n",
      "0.47470757\n"
     ]
    },
    {
     "name": "stderr",
     "output_type": "stream",
     "text": [
      " 16%|█▌        | 16/100 [00:00<00:03, 25.20it/s]"
     ]
    },
    {
     "name": "stdout",
     "output_type": "stream",
     "text": [
      "0.4910114\n",
      "0.33435535\n",
      "Epoch: 10\n",
      "0.48376065\n",
      "0.38108364\n",
      "0.48789963\n",
      "0.4778874\n",
      "Epoch: 11\n",
      "0.3752712\n",
      "0.44492972\n",
      "0.4725644\n",
      "0.35722995\n",
      "Epoch: 12\n",
      "0.33155653\n",
      "0.4725946\n",
      "0.41556206\n",
      "0.3858231\n",
      "Epoch: 13\n",
      "0.4367197\n",
      "0.34758833\n",
      "0.3824153\n",
      "0.4200786\n",
      "Epoch: 14\n",
      "0.34229118\n",
      "0.34241164\n",
      "0.46766958\n",
      "0.35948646\n",
      "Epoch: 15\n",
      "0.28975064\n",
      "0.340145\n",
      "0.48123467\n",
      "0.16947238\n",
      "Epoch: 16\n",
      "0.28524262\n",
      "0.35895404\n",
      "0.44264922\n",
      "0.22524847\n",
      "Epoch: 17\n",
      "0.29306537\n",
      "0.34384862\n",
      "0.3382456\n",
      "0.40493608\n",
      "Epoch: 18\n",
      "0.2907861\n",
      "0.45173612\n",
      "0.33169198\n",
      "0.375248\n",
      "Epoch: 19\n"
     ]
    },
    {
     "name": "stderr",
     "output_type": "stream",
     "text": [
      " 26%|██▌       | 26/100 [00:00<00:02, 30.68it/s]"
     ]
    },
    {
     "name": "stdout",
     "output_type": "stream",
     "text": [
      "0.23042536\n",
      "0.33660114\n",
      "0.37325075\n",
      "0.2415799\n",
      "Epoch: 20\n",
      "0.28744134\n",
      "0.2612457\n",
      "0.31102607\n",
      "0.20365715\n",
      "Epoch: 21\n",
      "0.20463789\n",
      "0.44256014\n",
      "0.25309604\n",
      "0.1943951\n",
      "Epoch: 22\n",
      "0.242161\n",
      "0.22258335\n",
      "0.2686071\n",
      "0.24508382\n",
      "Epoch: 23\n",
      "0.31691766\n",
      "0.2693528\n",
      "0.14455764\n",
      "0.26763782\n",
      "Epoch: 24\n",
      "0.20889108\n",
      "0.17672649\n",
      "0.25634605\n",
      "0.3408076\n",
      "Epoch: 25\n",
      "0.17967558\n",
      "0.12871848\n",
      "0.2381594\n",
      "0.30711195\n",
      "Epoch: 26\n",
      "0.24424107\n",
      "0.15285836\n",
      "0.19826901\n",
      "0.06646361\n",
      "Epoch: 27\n",
      "0.19421567\n",
      "0.082852066\n",
      "0.14651261\n",
      "0.19216093\n",
      "Epoch: 28\n",
      "0.10841304\n",
      "0.1916681\n"
     ]
    },
    {
     "name": "stderr",
     "output_type": "stream",
     "text": [
      " 36%|███▌      | 36/100 [00:01<00:01, 33.46it/s]"
     ]
    },
    {
     "name": "stdout",
     "output_type": "stream",
     "text": [
      "0.13619328\n",
      "0.02374172\n",
      "Epoch: 29\n",
      "0.14697659\n",
      "0.17413709\n",
      "0.047018066\n",
      "0.02451099\n",
      "Epoch: 30\n",
      "0.09245366\n",
      "0.116702415\n",
      "0.06626966\n",
      "0.028474068\n",
      "Epoch: 31\n",
      "0.033010814\n",
      "0.09689528\n",
      "0.057934556\n",
      "0.16020294\n",
      "Epoch: 32\n",
      "0.033450656\n",
      "0.048358053\n",
      "0.054702766\n",
      "0.07177148\n",
      "Epoch: 33\n",
      "0.06507936\n",
      "0.023326363\n",
      "0.047502894\n",
      "0.024205621\n",
      "Epoch: 34\n",
      "0.022062246\n",
      "0.016014172\n",
      "0.09505967\n",
      "0.020771783\n",
      "Epoch: 35\n",
      "0.05529071\n",
      "0.013215956\n",
      "0.019492442\n",
      "0.011603301\n",
      "Epoch: 36\n",
      "0.022897055\n",
      "0.019390756\n",
      "0.014520543\n",
      "0.022519166\n",
      "Epoch: 37\n",
      "0.010310481\n"
     ]
    },
    {
     "name": "stderr",
     "output_type": "stream",
     "text": [
      " 46%|████▌     | 46/100 [00:01<00:01, 35.54it/s]"
     ]
    },
    {
     "name": "stdout",
     "output_type": "stream",
     "text": [
      "0.021299327\n",
      "0.010986832\n",
      "0.009546573\n",
      "Epoch: 38\n",
      "0.013380926\n",
      "0.009259018\n",
      "0.013074611\n",
      "0.005739512\n",
      "Epoch: 39\n",
      "0.0072384095\n",
      "0.012019552\n",
      "0.009496823\n",
      "0.0039359294\n",
      "Epoch: 40\n",
      "0.00788727\n",
      "0.007634672\n",
      "0.006529477\n",
      "0.005570144\n",
      "Epoch: 41\n",
      "0.0066516553\n",
      "0.005467538\n",
      "0.0054471544\n",
      "0.007026109\n",
      "Epoch: 42\n",
      "0.0058162995\n",
      "0.004253535\n",
      "0.005169391\n",
      "0.005444067\n",
      "Epoch: 43\n",
      "0.0047681103\n",
      "0.0046018255\n",
      "0.003989198\n",
      "0.0056219497\n",
      "Epoch: 44\n",
      "0.00487092\n",
      "0.003970698\n",
      "0.0036458948\n",
      "0.0043198997\n",
      "Epoch: 45\n",
      "0.003902554\n",
      "0.0036892837\n",
      "0.0036418098\n",
      "0.0041141384\n",
      "Epoch: 46\n",
      "0.003454336\n",
      "0.0034486565\n"
     ]
    },
    {
     "name": "stderr",
     "output_type": "stream",
     "text": [
      "\r",
      " 51%|█████     | 51/100 [00:01<00:01, 36.30it/s]"
     ]
    },
    {
     "name": "stdout",
     "output_type": "stream",
     "text": [
      "0.0035007398\n",
      "0.0037197468\n",
      "Epoch: 47\n",
      "0.0031585388\n",
      "0.0036067255\n",
      "0.003124919\n",
      "0.0027874769\n",
      "Epoch: 48\n",
      "0.0030332708\n",
      "0.0035565218\n",
      "0.002623423\n",
      "0.0028044458\n",
      "Epoch: 49\n",
      "0.002605976\n",
      "0.0027604485\n",
      "0.0032184187\n",
      "0.0029875513\n",
      "Epoch: 50\n",
      "0.002968901\n",
      "0.0027274548\n",
      "0.0024177101\n",
      "0.0027170198\n",
      "Epoch: 51\n",
      "0.0026175184\n",
      "0.002359666\n",
      "0.002564102\n",
      "0.0030643262\n",
      "Epoch: 52\n",
      "0.0026369574\n",
      "0.0022887588\n",
      "0.0022217385\n",
      "0.0030472076\n",
      "Epoch: 53\n",
      "0.002091599\n",
      "0.0020671913\n",
      "0.0026132728\n",
      "0.002905253\n",
      "Epoch: 54\n",
      "0.0019876498\n",
      "0.0022284477\n",
      "0.0022783112\n",
      "0.0025637257\n",
      "Epoch: 55\n",
      "0.002102424\n",
      "0.0024072563\n",
      "0.0020270627\n"
     ]
    },
    {
     "name": "stderr",
     "output_type": "stream",
     "text": [
      " 61%|██████    | 61/100 [00:01<00:01, 37.51it/s]"
     ]
    },
    {
     "name": "stdout",
     "output_type": "stream",
     "text": [
      "0.001483212\n",
      "Epoch: 56\n",
      "0.0019071986\n",
      "0.002252989\n",
      "0.0019953707\n",
      "0.0018749435\n",
      "Epoch: 57\n",
      "0.0018061742\n",
      "0.0018367221\n",
      "0.002117673\n",
      "0.0021283126\n",
      "Epoch: 58\n",
      "0.001983074\n",
      "0.0018142941\n",
      "0.0018272098\n",
      "0.0018548395\n",
      "Epoch: 59\n",
      "0.0017598885\n",
      "0.0019425814\n",
      "0.0016441117\n",
      "0.0020093804\n",
      "Epoch: 60\n",
      "0.001834082\n",
      "0.0017873535\n",
      "0.0017424448\n",
      "0.0011732529\n",
      "Epoch: 61\n",
      "0.0017986938\n",
      "0.0014953364\n",
      "0.0017763557\n",
      "0.0015369067\n",
      "Epoch: 62\n",
      "0.0016643668\n",
      "0.0017514959\n",
      "0.0014954543\n",
      "0.0014975973\n",
      "Epoch: 63\n",
      "0.001611336\n",
      "0.0016597849\n",
      "0.0015799633\n",
      "0.0010365349\n",
      "Epoch: 64\n",
      "0.0014313816\n",
      "0.0014738921\n",
      "0.0016119154\n",
      "0.0016754176\n",
      "Epoch: 65\n"
     ]
    },
    {
     "name": "stderr",
     "output_type": "stream",
     "text": [
      " 71%|███████   | 71/100 [00:01<00:00, 38.59it/s]"
     ]
    },
    {
     "name": "stdout",
     "output_type": "stream",
     "text": [
      "0.001335369\n",
      "0.0015444761\n",
      "0.0015316359\n",
      "0.0014240203\n",
      "Epoch: 66\n",
      "0.0014349412\n",
      "0.0016009578\n",
      "0.0013799155\n",
      "0.0009234839\n",
      "Epoch: 67\n",
      "0.0014651858\n",
      "0.001181581\n",
      "0.0014432807\n",
      "0.0014873011\n",
      "Epoch: 68\n",
      "0.0013971189\n",
      "0.0012090438\n",
      "0.0014750407\n",
      "0.0012026569\n",
      "Epoch: 69\n",
      "0.0013990335\n",
      "0.001125839\n",
      "0.0014032614\n",
      "0.0012597326\n",
      "Epoch: 70\n",
      "0.0012367786\n",
      "0.0011907185\n",
      "0.0013183382\n",
      "0.0014467165\n",
      "Epoch: 71\n",
      "0.0012026421\n",
      "0.0012080709\n",
      "0.0012188212\n",
      "0.0014380737\n",
      "Epoch: 72\n",
      "0.001207913\n",
      "0.0010954337\n",
      "0.0012109715\n",
      "0.0013893076\n",
      "Epoch: 73\n",
      "0.0010925039\n",
      "0.0011637246\n",
      "0.0012521098\n",
      "0.0011912115\n",
      "Epoch: 74\n",
      "0.0012566791\n"
     ]
    },
    {
     "name": "stderr",
     "output_type": "stream",
     "text": [
      " 81%|████████  | 81/100 [00:02<00:00, 39.30it/s]"
     ]
    },
    {
     "name": "stdout",
     "output_type": "stream",
     "text": [
      "0.0010936446\n",
      "0.0011081729\n",
      "0.0009949052\n",
      "Epoch: 75\n",
      "0.0010961076\n",
      "0.0010765356\n",
      "0.00118565\n",
      "0.00096453936\n",
      "Epoch: 76\n",
      "0.0010498873\n",
      "0.0010460535\n",
      "0.0011221233\n",
      "0.0011433614\n",
      "Epoch: 77\n",
      "0.0009173577\n",
      "0.0010657688\n",
      "0.0010949433\n",
      "0.0012075223\n",
      "Epoch: 78\n",
      "0.0009745322\n",
      "0.0009836773\n",
      "0.0011241664\n",
      "0.0010270171\n",
      "Epoch: 79\n",
      "0.0010568394\n",
      "0.00087638485\n",
      "0.0011215593\n",
      "0.00084699225\n",
      "Epoch: 80\n",
      "0.0010691311\n",
      "0.0010199386\n",
      "0.00088145334\n",
      "0.0008900144\n",
      "Epoch: 81\n",
      "0.000921458\n",
      "0.0009457876\n",
      "0.0010247981\n",
      "0.00085931853\n",
      "Epoch: 82\n",
      "0.0010220786\n",
      "0.0009321545\n",
      "0.000800286\n",
      "0.0010456176\n",
      "Epoch: 83\n",
      "0.0009509841\n",
      "0.0008941538\n"
     ]
    },
    {
     "name": "stderr",
     "output_type": "stream",
     "text": [
      " 91%|█████████ | 91/100 [00:02<00:00, 39.79it/s]"
     ]
    },
    {
     "name": "stdout",
     "output_type": "stream",
     "text": [
      "0.0008539539\n",
      "0.0010036109\n",
      "Epoch: 84\n",
      "0.00086984225\n",
      "0.00097648863\n",
      "0.0008683368\n",
      "0.0007597475\n",
      "Epoch: 85\n",
      "0.00079881895\n",
      "0.0008706771\n",
      "0.0009559212\n",
      "0.000866524\n",
      "Epoch: 86\n",
      "0.00085520744\n",
      "0.0008999829\n",
      "0.0008161418\n",
      "0.00081253017\n",
      "Epoch: 87\n",
      "0.0007471296\n",
      "0.00085817877\n",
      "0.0009066689\n",
      "0.00078226265\n",
      "Epoch: 88\n",
      "0.0007917214\n",
      "0.0008824637\n",
      "0.0007142424\n",
      "0.0010042212\n",
      "Epoch: 89\n",
      "0.0007597052\n",
      "0.0008604749\n",
      "0.00076172897\n",
      "0.0008332303\n",
      "Epoch: 90\n",
      "0.0007830239\n",
      "0.00078306947\n",
      "0.0007866509\n",
      "0.00078580424\n",
      "Epoch: 91\n",
      "0.00078024564\n",
      "0.00071686204\n",
      "0.0008442728\n",
      "0.0006539693\n",
      "Epoch: 92\n",
      "0.0006703952\n"
     ]
    },
    {
     "name": "stderr",
     "output_type": "stream",
     "text": [
      "100%|██████████| 100/100 [00:02<00:00, 40.03it/s]"
     ]
    },
    {
     "name": "stdout",
     "output_type": "stream",
     "text": [
      "0.00080716604\n",
      "0.00076689804\n",
      "0.0008032552\n",
      "Epoch: 93\n",
      "0.0007741097\n",
      "0.0006886966\n",
      "0.0007408135\n",
      "0.00077615195\n",
      "Epoch: 94\n",
      "0.0006846683\n",
      "0.00076431915\n",
      "0.00075599103\n",
      "0.00060976954\n",
      "Epoch: 95\n",
      "0.0007602642\n",
      "0.000736194\n",
      "0.0006313978\n",
      "0.0007165091\n",
      "Epoch: 96\n",
      "0.00066930626\n",
      "0.000663395\n",
      "0.00078613276\n",
      "0.0005801473\n",
      "Epoch: 97\n",
      "0.00068885856\n",
      "0.0006836762\n",
      "0.0006969871\n",
      "0.0006243554\n",
      "Epoch: 98\n",
      "0.0006617251\n",
      "0.00070064655\n",
      "0.00065692246\n",
      "0.0006652907\n",
      "Epoch: 99\n",
      "0.0007345926\n",
      "0.00066690304\n",
      "0.00062007667\n",
      "0.0005414921\n"
     ]
    },
    {
     "name": "stderr",
     "output_type": "stream",
     "text": [
      "\n"
     ]
    }
   ],
   "source": [
    "sess = tf.Session()\n",
    "sess.run(tf.global_variables_initializer())\n",
    "loss_hist=[]\n",
    "\n",
    "for epoch in tqdm(range(100)):\n",
    "    \n",
    "    # iterator.initalizer를 반복문 안에 넣어줘야 배치를 다 꺼내 쓴 다음에 다시 배치를 쓸 수 있다. 이것을 반복문 바깥에 두면 계속 OutOfRangeError 에러가 난다.\n",
    "    sess.run(iterator.initializer, feed_dict = {encoder_input: encoder_data, decoder_input: decoder_data, \n",
    "                                                targets: targets_data, encoder_seq_len: encoder_sequence_length, decoder_seq_len: decoder_sequence_length})\n",
    "    print(\"Epoch: %s\" %epoch)\n",
    "\n",
    "    while True:\n",
    "        try:\n",
    "            _, loss = sess.run([train_op, object2text.seq2seq_loss])\n",
    "            print(loss)            \n",
    "            \n",
    "        # 에러가 발생한다는 것은 더 이상 꺼내 올 배치가 없다는 것이다. 따라서 배치를 꺼내오는 while문을 종료하고 다음 epoch로 넘어간다.\n",
    "        except tf.errors.OutOfRangeError:\n",
    "            break"
   ]
  },
  {
   "cell_type": "markdown",
   "metadata": {},
   "source": [
    "## 11. 학습된 가중치가 저장된 sess를 통해서 inference를 한다."
   ]
  },
  {
   "cell_type": "code",
   "execution_count": 13,
   "metadata": {},
   "outputs": [],
   "source": [
    "prediction = object2text.infer(sess, btc_enc_inp=encoder_data, btc_enc_seq_len=encoder_sequence_length)"
   ]
  },
  {
   "cell_type": "code",
   "execution_count": 14,
   "metadata": {},
   "outputs": [
    {
     "name": "stdout",
     "output_type": "stream",
     "text": [
      "[[ 4  2  1 10 12 14  0]\n",
      " [ 4  7  0 12 14  0  0]\n",
      " [ 4  2  1 10  9 14  0]\n",
      " [ 4  7  0  9 14  0  0]\n",
      " [ 4  2  1 10 11  8 14]\n",
      " [ 4  7  0 11  8 14  0]\n",
      " [ 4  2  1 10  6  5 14]\n",
      " [ 4  7  0  6  5 14  0]\n",
      " [ 4  2  1 10  3 14  0]\n",
      " [ 4  7  0  3 14  0  0]]\n"
     ]
    }
   ],
   "source": [
    "print(prediction)"
   ]
  },
  {
   "cell_type": "code",
   "execution_count": 18,
   "metadata": {},
   "outputs": [
    {
     "data": {
      "text/plain": [
       "[['plane', 'take', 'off', 'from', 'dallas', '<end>', 'at'],\n",
       " ['plane', 'land', 'at', 'dallas', '<end>', 'at', 'at'],\n",
       " ['plane', 'take', 'off', 'from', 'chicago', '<end>', 'at'],\n",
       " ['plane', 'land', 'at', 'chicago', '<end>', 'at', 'at'],\n",
       " ['plane', 'take', 'off', 'from', 'los', 'angeles', '<end>'],\n",
       " ['plane', 'land', 'at', 'los', 'angeles', '<end>', 'at'],\n",
       " ['plane', 'take', 'off', 'from', 'new', 'york', '<end>'],\n",
       " ['plane', 'land', 'at', 'new', 'york', '<end>', 'at'],\n",
       " ['plane', 'take', 'off', 'from', 'miami', '<end>', 'at'],\n",
       " ['plane', 'land', 'at', 'miami', '<end>', 'at', 'at']]"
      ]
     },
     "execution_count": 18,
     "metadata": {},
     "output_type": "execute_result"
    }
   ],
   "source": [
    "list(map(lambda row: [idx2word[idx] for idx in row], prediction))"
   ]
  }
 ],
 "metadata": {
  "kernelspec": {
   "display_name": "Python 3",
   "language": "python",
   "name": "python3"
  },
  "language_info": {
   "codemirror_mode": {
    "name": "ipython",
    "version": 3
   },
   "file_extension": ".py",
   "mimetype": "text/x-python",
   "name": "python",
   "nbconvert_exporter": "python",
   "pygments_lexer": "ipython3",
   "version": "3.6.5"
  }
 },
 "nbformat": 4,
 "nbformat_minor": 2
}
