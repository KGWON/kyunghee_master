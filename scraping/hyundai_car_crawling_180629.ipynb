{
 "cells": [
  {
   "cell_type": "markdown",
   "metadata": {},
   "source": [
    "---\n",
    "## 1. 화면 비율을 설정하고 필요한 라이브러리들을 불러온다."
   ]
  },
  {
   "cell_type": "code",
   "execution_count": 1,
   "metadata": {},
   "outputs": [
    {
     "data": {
      "text/html": [
       "<style>.container { width:90% !important; }</style>"
      ],
      "text/plain": [
       "<IPython.core.display.HTML object>"
      ]
     },
     "metadata": {},
     "output_type": "display_data"
    }
   ],
   "source": [
    "# Wide display\n",
    "from IPython.core.display import display, HTML\n",
    "display(HTML(\"<style>.container { width:90% !important; }</style>\"))\n",
    "\n",
    "##1. selenium, time, pandas 모듈을 불러온다.\n",
    "from selenium import webdriver                                               # selenium webdriver 개체 필수 요소.\n",
    "from selenium.webdriver.common.by import By                                  # 태그를 가져올 때 사용함.\n",
    "from selenium.webdriver.support.ui import WebDriverWait                      # 특정 태그가 로드 될 때까지 기다리게 할 수 있음.\n",
    "from selenium.webdriver.support import expected_conditions as EC             # 특정 태그가 로드 될 때까지 기다리게 할 수 있음.\n",
    "from selenium.webdriver.common.keys import Keys                         \n",
    "from selenium.webdriver.chrome.options import Options\n",
    "from bs4 import BeautifulSoup                                                # 셀레니움 가져온 html 파일을 BeautifulSoup로 파싱하고자 할 때.\n",
    "\n",
    "import urllib.request                                                        # 이미지를 저장하기 위해 필요한 모듈.\n",
    "import pickle                                                                # 객체를 저장.\n",
    "\n",
    "import time\n",
    "import pandas as pd\n",
    "from pandas import DataFrame\n",
    "\n",
    "# 이미지를 불러오지 않아 로딩이 빠르게 되게 하는 코드.\n",
    "chrome_options = Options()\n",
    "chrome_options.add_argument(\"--blink-settings=imagesEnabled=false\")"
   ]
  },
  {
   "cell_type": "code",
   "execution_count": 2,
   "metadata": {},
   "outputs": [],
   "source": [
    "'''\n",
    "querys = []\n",
    "while True:\n",
    "    inp = input(\"검색할 이미지를 입력해 주세요(그만 두고 싶을 때 공백 입력): \")\n",
    "    if inp == \"\":\n",
    "        break\n",
    "    querys.append(inp)\n",
    "print(querys)\n",
    "'''\n",
    "querys = ['투싼', '코나', '싼타페', '그랜저', '아반떼', '벨로스터']"
   ]
  },
  {
   "cell_type": "markdown",
   "metadata": {},
   "source": [
    "---\n",
    "## 2. 크롤링을 한다."
   ]
  },
  {
   "cell_type": "code",
   "execution_count": 3,
   "metadata": {},
   "outputs": [
    {
     "name": "stdout",
     "output_type": "stream",
     "text": [
      "'투싼'를 검색 하였습니다.\n",
      "'코나'를 검색 하였습니다.\n",
      "'싼타페'를 검색 하였습니다.\n",
      "'그랜저'를 검색 하였습니다.\n",
      "'아반떼'를 검색 하였습니다.\n",
      "'벨로스터'를 검색 하였습니다.\n"
     ]
    }
   ],
   "source": [
    "#크롬 웹브라우저를 통해 구글 이미지 검색 페이지를 열고 query에 따라 검색하고 저장한다.\n",
    "for query in querys:\n",
    "    driver = webdriver.Chrome(\"./chromedriver\")\n",
    "    driver.implicitly_wait(5)\n",
    "    driver.get(\"https://www.google.co.kr/imghp?hl=ko&tab=wi\")\n",
    "    driver.find_element_by_css_selector(\"#lst-ib\").send_keys(query)    # querys에 담긴 값을 하나씩 꺼내서 검색창에 입력한다.\n",
    "    driver.find_element_by_name(\"btnG\").click()                        # 검색 버튼을 클릭한다.\n",
    "    \n",
    "    print(\"'%s'를 검색 하였습니다.\" % query)\n",
    "\n",
    "'''\n",
    "이미지 주소를 파싱 해오는데, 만약 제대로 파싱이 안 되었으면 urls에 None이 들어간다.\n",
    "따라서 예외처리 함수인 try~except를 통해 urls에서 'None'을 찾아본다.\n",
    "만약 제대로 파싱 되었으면(== debug를 할 때 에러가 발생) except으로 들어가서 while문을 종료한다. (에러가 발생하면 제대로 된 것임... 헷갈리지 말자!)\n",
    "만약 제대로 파싱이 안 되었으면 debug에 어떤 숫자 값이 저장된다. 이때는 다시 while문 루프를 돌아준다. (제대로 파싱이 될 때까지 파싱 반복.)\n",
    "'''\n",
    "\n",
    "    while True:\n",
    "        try:\n",
    "            imgs = driver.execute_script(\"return document.querySelectorAll('.rg_bx.rg_di.rg_el.ivg-i > a > img');\")\n",
    "            urls = [str(img.get_attribute('src')) for img in imgs]\n",
    "            debug = urls.index('None')\n",
    "            print(\"%s번 째 url이 제대로 파싱되지 않았습니다.\" % debug)\n",
    "        except:\n",
    "            print(\"이미지 url을 제대로 파싱 하였습니다.\")\n",
    "            break\n",
    "\n",
    "    for url in urls:\n",
    "        urllib.request.urlretrieve(url, filename=\"/mnt/new/hyundai/\" + query + \"/\" + str(urls.index(url)) + \".jpg\")\n",
    "\n",
    "        if urls.index(url) % 20 == 0:\n",
    "            print(\"%s:  %s(/%s)번 째까지 완료하였습니다.\" % (query, urls.index(url), len(urls)))"
   ]
  },
  {
   "cell_type": "code",
   "execution_count": 4,
   "metadata": {},
   "outputs": [
    {
     "ename": "NoSuchElementException",
     "evalue": "Message: no such element: Unable to locate element: {\"method\":\"xpath\",\"selector\":\"/html/body/div[3]/div/div/div/div[3]/button[2]\"}\n  (Session info: chrome=66.0.3359.181)\n  (Driver info: chromedriver=2.39.562713 (dd642283e958a93ebf6891600db055f1f1b4f3b2),platform=Mac OS X 10.12.6 x86_64)\n",
     "output_type": "error",
     "traceback": [
      "\u001b[0;31m---------------------------------------------------------------------------\u001b[0m",
      "\u001b[0;31mNoSuchElementException\u001b[0m                    Traceback (most recent call last)",
      "\u001b[0;32m<ipython-input-4-61b65647aca5>\u001b[0m in \u001b[0;36m<module>\u001b[0;34m()\u001b[0m\n\u001b[1;32m     25\u001b[0m \u001b[0;34m\u001b[0m\u001b[0m\n\u001b[1;32m     26\u001b[0m \u001b[0;31m# 로그인에 성공 했을 때 뜨는 알림창을 끈다.\u001b[0m\u001b[0;34m\u001b[0m\u001b[0;34m\u001b[0m\u001b[0m\n\u001b[0;32m---> 27\u001b[0;31m \u001b[0mdriver\u001b[0m\u001b[0;34m.\u001b[0m\u001b[0mfind_element_by_xpath\u001b[0m\u001b[0;34m(\u001b[0m\u001b[0;34m\"/html/body/div[3]/div/div/div/div[3]/button[2]\"\u001b[0m\u001b[0;34m)\u001b[0m\u001b[0;34m.\u001b[0m\u001b[0mclick\u001b[0m\u001b[0;34m(\u001b[0m\u001b[0;34m)\u001b[0m\u001b[0;34m\u001b[0m\u001b[0m\n\u001b[0m",
      "\u001b[0;32m~/anaconda3/lib/python3.6/site-packages/selenium/webdriver/remote/webdriver.py\u001b[0m in \u001b[0;36mfind_element_by_xpath\u001b[0;34m(self, xpath)\u001b[0m\n\u001b[1;32m    383\u001b[0m             \u001b[0melement\u001b[0m \u001b[0;34m=\u001b[0m \u001b[0mdriver\u001b[0m\u001b[0;34m.\u001b[0m\u001b[0mfind_element_by_xpath\u001b[0m\u001b[0;34m(\u001b[0m\u001b[0;34m'//div/td[1]'\u001b[0m\u001b[0;34m)\u001b[0m\u001b[0;34m\u001b[0m\u001b[0m\n\u001b[1;32m    384\u001b[0m         \"\"\"\n\u001b[0;32m--> 385\u001b[0;31m         \u001b[0;32mreturn\u001b[0m \u001b[0mself\u001b[0m\u001b[0;34m.\u001b[0m\u001b[0mfind_element\u001b[0m\u001b[0;34m(\u001b[0m\u001b[0mby\u001b[0m\u001b[0;34m=\u001b[0m\u001b[0mBy\u001b[0m\u001b[0;34m.\u001b[0m\u001b[0mXPATH\u001b[0m\u001b[0;34m,\u001b[0m \u001b[0mvalue\u001b[0m\u001b[0;34m=\u001b[0m\u001b[0mxpath\u001b[0m\u001b[0;34m)\u001b[0m\u001b[0;34m\u001b[0m\u001b[0m\n\u001b[0m\u001b[1;32m    386\u001b[0m \u001b[0;34m\u001b[0m\u001b[0m\n\u001b[1;32m    387\u001b[0m     \u001b[0;32mdef\u001b[0m \u001b[0mfind_elements_by_xpath\u001b[0m\u001b[0;34m(\u001b[0m\u001b[0mself\u001b[0m\u001b[0;34m,\u001b[0m \u001b[0mxpath\u001b[0m\u001b[0;34m)\u001b[0m\u001b[0;34m:\u001b[0m\u001b[0;34m\u001b[0m\u001b[0m\n",
      "\u001b[0;32m~/anaconda3/lib/python3.6/site-packages/selenium/webdriver/remote/webdriver.py\u001b[0m in \u001b[0;36mfind_element\u001b[0;34m(self, by, value)\u001b[0m\n\u001b[1;32m    953\u001b[0m         return self.execute(Command.FIND_ELEMENT, {\n\u001b[1;32m    954\u001b[0m             \u001b[0;34m'using'\u001b[0m\u001b[0;34m:\u001b[0m \u001b[0mby\u001b[0m\u001b[0;34m,\u001b[0m\u001b[0;34m\u001b[0m\u001b[0m\n\u001b[0;32m--> 955\u001b[0;31m             'value': value})['value']\n\u001b[0m\u001b[1;32m    956\u001b[0m \u001b[0;34m\u001b[0m\u001b[0m\n\u001b[1;32m    957\u001b[0m     \u001b[0;32mdef\u001b[0m \u001b[0mfind_elements\u001b[0m\u001b[0;34m(\u001b[0m\u001b[0mself\u001b[0m\u001b[0;34m,\u001b[0m \u001b[0mby\u001b[0m\u001b[0;34m=\u001b[0m\u001b[0mBy\u001b[0m\u001b[0;34m.\u001b[0m\u001b[0mID\u001b[0m\u001b[0;34m,\u001b[0m \u001b[0mvalue\u001b[0m\u001b[0;34m=\u001b[0m\u001b[0;32mNone\u001b[0m\u001b[0;34m)\u001b[0m\u001b[0;34m:\u001b[0m\u001b[0;34m\u001b[0m\u001b[0m\n",
      "\u001b[0;32m~/anaconda3/lib/python3.6/site-packages/selenium/webdriver/remote/webdriver.py\u001b[0m in \u001b[0;36mexecute\u001b[0;34m(self, driver_command, params)\u001b[0m\n\u001b[1;32m    310\u001b[0m         \u001b[0mresponse\u001b[0m \u001b[0;34m=\u001b[0m \u001b[0mself\u001b[0m\u001b[0;34m.\u001b[0m\u001b[0mcommand_executor\u001b[0m\u001b[0;34m.\u001b[0m\u001b[0mexecute\u001b[0m\u001b[0;34m(\u001b[0m\u001b[0mdriver_command\u001b[0m\u001b[0;34m,\u001b[0m \u001b[0mparams\u001b[0m\u001b[0;34m)\u001b[0m\u001b[0;34m\u001b[0m\u001b[0m\n\u001b[1;32m    311\u001b[0m         \u001b[0;32mif\u001b[0m \u001b[0mresponse\u001b[0m\u001b[0;34m:\u001b[0m\u001b[0;34m\u001b[0m\u001b[0m\n\u001b[0;32m--> 312\u001b[0;31m             \u001b[0mself\u001b[0m\u001b[0;34m.\u001b[0m\u001b[0merror_handler\u001b[0m\u001b[0;34m.\u001b[0m\u001b[0mcheck_response\u001b[0m\u001b[0;34m(\u001b[0m\u001b[0mresponse\u001b[0m\u001b[0;34m)\u001b[0m\u001b[0;34m\u001b[0m\u001b[0m\n\u001b[0m\u001b[1;32m    313\u001b[0m             response['value'] = self._unwrap_value(\n\u001b[1;32m    314\u001b[0m                 response.get('value', None))\n",
      "\u001b[0;32m~/anaconda3/lib/python3.6/site-packages/selenium/webdriver/remote/errorhandler.py\u001b[0m in \u001b[0;36mcheck_response\u001b[0;34m(self, response)\u001b[0m\n\u001b[1;32m    240\u001b[0m                 \u001b[0malert_text\u001b[0m \u001b[0;34m=\u001b[0m \u001b[0mvalue\u001b[0m\u001b[0;34m[\u001b[0m\u001b[0;34m'alert'\u001b[0m\u001b[0;34m]\u001b[0m\u001b[0;34m.\u001b[0m\u001b[0mget\u001b[0m\u001b[0;34m(\u001b[0m\u001b[0;34m'text'\u001b[0m\u001b[0;34m)\u001b[0m\u001b[0;34m\u001b[0m\u001b[0m\n\u001b[1;32m    241\u001b[0m             \u001b[0;32mraise\u001b[0m \u001b[0mexception_class\u001b[0m\u001b[0;34m(\u001b[0m\u001b[0mmessage\u001b[0m\u001b[0;34m,\u001b[0m \u001b[0mscreen\u001b[0m\u001b[0;34m,\u001b[0m \u001b[0mstacktrace\u001b[0m\u001b[0;34m,\u001b[0m \u001b[0malert_text\u001b[0m\u001b[0;34m)\u001b[0m\u001b[0;34m\u001b[0m\u001b[0m\n\u001b[0;32m--> 242\u001b[0;31m         \u001b[0;32mraise\u001b[0m \u001b[0mexception_class\u001b[0m\u001b[0;34m(\u001b[0m\u001b[0mmessage\u001b[0m\u001b[0;34m,\u001b[0m \u001b[0mscreen\u001b[0m\u001b[0;34m,\u001b[0m \u001b[0mstacktrace\u001b[0m\u001b[0;34m)\u001b[0m\u001b[0;34m\u001b[0m\u001b[0m\n\u001b[0m\u001b[1;32m    243\u001b[0m \u001b[0;34m\u001b[0m\u001b[0m\n\u001b[1;32m    244\u001b[0m     \u001b[0;32mdef\u001b[0m \u001b[0m_value_or_default\u001b[0m\u001b[0;34m(\u001b[0m\u001b[0mself\u001b[0m\u001b[0;34m,\u001b[0m \u001b[0mobj\u001b[0m\u001b[0;34m,\u001b[0m \u001b[0mkey\u001b[0m\u001b[0;34m,\u001b[0m \u001b[0mdefault\u001b[0m\u001b[0;34m)\u001b[0m\u001b[0;34m:\u001b[0m\u001b[0;34m\u001b[0m\u001b[0m\n",
      "\u001b[0;31mNoSuchElementException\u001b[0m: Message: no such element: Unable to locate element: {\"method\":\"xpath\",\"selector\":\"/html/body/div[3]/div/div/div/div[3]/button[2]\"}\n  (Session info: chrome=66.0.3359.181)\n  (Driver info: chromedriver=2.39.562713 (dd642283e958a93ebf6891600db055f1f1b4f3b2),platform=Mac OS X 10.12.6 x86_64)\n"
     ]
    }
   ],
   "source": [
    "try:\n",
    "    element = WebDriverWait(driver, 10).until(EC.presence_of_element_located((By.XPATH, \"//*[@id='react-root']/section/main/article/div[2]/div[2]/p/a\")))\n",
    "except:\n",
    "    print(\"페이지를 정상적으로 로드하지 못했습니다.\")\n",
    "finally:\n",
    "    driver.find_element_by_xpath(\"//*[@id='react-root']/section/main/article/div[2]/div[2]/p/a\").click()\n",
    "    \n",
    "time.sleep(1)\n",
    "\n",
    "# 로그인 창이 뜰 때까지 기다린 후 아이디와 패스워드를 입력하여 로그인을 시도한다.\n",
    "try:\n",
    "    element = WebDriverWait(driver, 10).until(EC.presence_of_element_located((By.NAME, \"username\")))\n",
    "except:\n",
    "    print(\"페이지를 정상적으로 로드하지 못했습니다.\")\n",
    "finally:\n",
    "    driver.find_element_by_xpath(\"//*[@name='username']\").send_keys(user_id)\n",
    "    driver.find_element_by_xpath(\"//*[@name='password']\").send_keys(user_pwd)\n",
    "    driver.find_element_by_xpath(\"//*[@id='react-root']/section/main/div/article/div/div[1]/div/form/span/button\").click()\n",
    "\n",
    "# 로그인에 성공 했을 때 뜨는 알림창을 끈다.\n",
    "driver.find_element_by_xpath(\"/html/body/div[3]/div/div/div/div[3]/button[2]\").click()    "
   ]
  },
  {
   "cell_type": "markdown",
   "metadata": {},
   "source": [
    "---\n",
    "## 4. 사용자의 입력을 받아서 검색한다."
   ]
  },
  {
   "cell_type": "code",
   "execution_count": 10,
   "metadata": {},
   "outputs": [
    {
     "name": "stdout",
     "output_type": "stream",
     "text": [
      "Empty DataFrame\n",
      "Columns: []\n",
      "Index: []\n"
     ]
    }
   ],
   "source": [
    "result = pd.DataFrame([])\n",
    "print(result)"
   ]
  },
  {
   "cell_type": "code",
   "execution_count": 6,
   "metadata": {
    "scrolled": true
   },
   "outputs": [
    {
     "name": "stdout",
     "output_type": "stream",
     "text": [
      "검색어를 입력 해 주세요: 제과\n"
     ]
    }
   ],
   "source": [
    "query = str(input(\"검색어를 입력 해 주세요: \"))\n",
    "search = driver.find_element_by_xpath(\"//*[@id='react-root']/section/nav/div[2]/div/div/div[2]/input\")\n",
    "search.send_keys(query)\n",
    "\n",
    "try:\n",
    "    element = WebDriverWait(driver, 10).until(EC.presence_of_element_located((By.XPATH, \"//*[@id='react-root']/section/nav/div[2]/div/div/div[2]/div[2]/div[2]\")))\n",
    "except:\n",
    "    print(\"검색어가 제대로 입력되지 않았습니다.\")\n",
    "finally:\n",
    "    search.send_keys(Keys.ENTER)\n",
    "    search.send_keys(Keys.ENTER) # Keys.ENTER를 두번 해야 검색이 이루어지네... 원인은 모르겠음."
   ]
  },
  {
   "cell_type": "markdown",
   "metadata": {},
   "source": [
    "크롤링 한 결과를 담을 빈 데이터 프레임을 만든다."
   ]
  },
  {
   "cell_type": "markdown",
   "metadata": {},
   "source": [
    "---\n",
    "## 7. URL을 이용하여 각 피드에 접속 후 writer, contents를 크롤링한다."
   ]
  },
  {
   "cell_type": "code",
   "execution_count": 15,
   "metadata": {},
   "outputs": [
    {
     "name": "stdout",
     "output_type": "stream",
     "text": [
      "loop: 10 / 15180, loop: 20 / 15180, loop: 30 / 15180, loop: 40 / 15180, loop: 50 / 15180, loop: 60 / 15180, loop: 70 / 15180, loop: 80 / 15180, loop: 90 / 15180, loop: 100 / 15180, loop: 110 / 15180, loop: 120 / 15180, loop: 130 / 15180, loop: 140 / 15180, loop: 150 / 15180, loop: 160 / 15180, loop: 170 / 15180, loop: 180 / 15180, loop: 190 / 15180, loop: 200 / 15180, loop: 210 / 15180, loop: 220 / 15180, loop: 230 / 15180, loop: 240 / 15180, loop: 250 / 15180, loop: 260 / 15180, loop: 270 / 15180, loop: 280 / 15180, loop: 290 / 15180, loop: 300 / 15180, loop: 310 / 15180, loop: 320 / 15180, loop: 330 / 15180, loop: 340 / 15180, loop: 350 / 15180, loop: 360 / 15180, loop: 370 / 15180, loop: 380 / 15180, loop: 390 / 15180, loop: 400 / 15180, loop: 410 / 15180, loop: 420 / 15180, loop: 430 / 15180, loop: 440 / 15180, loop: 450 / 15180, loop: 460 / 15180, loop: 470 / 15180, loop: 480 / 15180, loop: 490 / 15180, loop: 500 / 15180, loop: 510 / 15180, loop: 520 / 15180, loop: 530 / 15180, loop: 540 / 15180, loop: 550 / 15180, loop: 560 / 15180, loop: 570 / 15180, loop: 580 / 15180, loop: 590 / 15180, loop: 600 / 15180, loop: 610 / 15180, loop: 620 / 15180, loop: 630 / 15180, loop: 640 / 15180, loop: 650 / 15180, loop: 660 / 15180, loop: 670 / 15180, loop: 680 / 15180, loop: 690 / 15180, loop: 700 / 15180, loop: 710 / 15180, loop: 720 / 15180, loop: 730 / 15180, loop: 740 / 15180, loop: 750 / 15180, loop: 760 / 15180, loop: 770 / 15180, loop: 780 / 15180, loop: 790 / 15180, loop: 800 / 15180, loop: 810 / 15180, loop: 820 / 15180, loop: 830 / 15180, loop: 840 / 15180, loop: 850 / 15180, loop: 860 / 15180, loop: 870 / 15180, loop: 880 / 15180, loop: 890 / 15180, loop: 900 / 15180, 904 번 째 URL에서 에러가 발생하였습니다.\n",
      "loop: 910 / 15180, loop: 920 / 15180, loop: 930 / 15180, loop: 940 / 15180, loop: 950 / 15180, loop: 960 / 15180, loop: 970 / 15180, loop: 980 / 15180, loop: 990 / 15180, loop: 1000 / 15180, loop: 1010 / 15180, loop: 1020 / 15180, loop: 1030 / 15180, loop: 1040 / 15180, loop: 1050 / 15180, loop: 1060 / 15180, loop: 1070 / 15180, loop: 1080 / 15180, loop: 1090 / 15180, loop: 1100 / 15180, loop: 1110 / 15180, loop: 1120 / 15180, loop: 1130 / 15180, loop: 1140 / 15180, loop: 1150 / 15180, loop: 1160 / 15180, loop: 1170 / 15180, loop: 1180 / 15180, loop: 1190 / 15180, loop: 1200 / 15180, loop: 1210 / 15180, loop: 1220 / 15180, loop: 1230 / 15180, loop: 1240 / 15180, loop: 1250 / 15180, loop: 1260 / 15180, loop: 1270 / 15180, loop: 1280 / 15180, 1289 번 째 URL에서 에러가 발생하였습니다.\n",
      "loop: 1290 / 15180, loop: 1300 / 15180, loop: 1310 / 15180, loop: 1320 / 15180, loop: 1330 / 15180, loop: 1340 / 15180, loop: 1350 / 15180, loop: 1360 / 15180, loop: 1370 / 15180, loop: 1380 / 15180, loop: 1390 / 15180, loop: 1400 / 15180, loop: 1410 / 15180, loop: 1420 / 15180, loop: 1430 / 15180, loop: 1440 / 15180, loop: 1450 / 15180, loop: 1460 / 15180, loop: 1470 / 15180, loop: 1480 / 15180, loop: 1490 / 15180, loop: 1500 / 15180, loop: 1510 / 15180, loop: 1520 / 15180, loop: 1530 / 15180, loop: 1540 / 15180, loop: 1550 / 15180, loop: 1560 / 15180, loop: 1570 / 15180, loop: 1580 / 15180, loop: 1590 / 15180, loop: 1600 / 15180, loop: 1610 / 15180, loop: 1620 / 15180, loop: 1630 / 15180, loop: 1640 / 15180, loop: 1650 / 15180, loop: 1660 / 15180, loop: 1670 / 15180, loop: 1680 / 15180, 1685 번 째 URL에서 에러가 발생하였습니다.\n",
      "loop: 1690 / 15180, loop: 1700 / 15180, loop: 1710 / 15180, loop: 1720 / 15180, loop: 1730 / 15180, loop: 1740 / 15180, loop: 1750 / 15180, loop: 1760 / 15180, loop: 1770 / 15180, loop: 1780 / 15180, loop: 1790 / 15180, loop: 1800 / 15180, loop: 1810 / 15180, loop: 1820 / 15180, loop: 1830 / 15180, loop: 1840 / 15180, loop: 1850 / 15180, loop: 1860 / 15180, loop: 1870 / 15180, loop: 1880 / 15180, loop: 1890 / 15180, loop: 1900 / 15180, loop: 1910 / 15180, loop: 1920 / 15180, loop: 1930 / 15180, loop: 1940 / 15180, loop: 1950 / 15180, 1954 번 째 URL에서 에러가 발생하였습니다.\n",
      "loop: 1960 / 15180, loop: 1970 / 15180, loop: 1980 / 15180, loop: 1990 / 15180, loop: 2000 / 15180, loop: 2010 / 15180, 2011 번 째 URL에서 에러가 발생하였습니다.\n",
      "loop: 2020 / 15180, loop: 2030 / 15180, loop: 2040 / 15180, loop: 2050 / 15180, 2058 번 째 URL에서 에러가 발생하였습니다.\n",
      "loop: 2060 / 15180, loop: 2070 / 15180, loop: 2080 / 15180, loop: 2090 / 15180, loop: 2100 / 15180, loop: 2110 / 15180, loop: 2120 / 15180, loop: 2130 / 15180, loop: 2140 / 15180, loop: 2150 / 15180, loop: 2160 / 15180, loop: 2170 / 15180, loop: 2180 / 15180, loop: 2190 / 15180, loop: 2200 / 15180, loop: 2210 / 15180, loop: 2220 / 15180, loop: 2230 / 15180, loop: 2240 / 15180, loop: 2250 / 15180, loop: 2260 / 15180, loop: 2270 / 15180, loop: 2280 / 15180, 2282 번 째 URL에서 에러가 발생하였습니다.\n",
      "loop: 2290 / 15180, loop: 2300 / 15180, loop: 2310 / 15180, loop: 2320 / 15180, loop: 2330 / 15180, loop: 2340 / 15180, loop: 2350 / 15180, loop: 2360 / 15180, loop: 2370 / 15180, loop: 2380 / 15180, loop: 2390 / 15180, loop: 2400 / 15180, loop: 2410 / 15180, loop: 2420 / 15180, loop: 2430 / 15180, loop: 2440 / 15180, loop: 2450 / 15180, loop: 2460 / 15180, loop: 2470 / 15180, loop: 2480 / 15180, loop: 2490 / 15180, loop: 2500 / 15180, loop: 2510 / 15180, loop: 2520 / 15180, loop: 2530 / 15180, loop: 2540 / 15180, loop: 2550 / 15180, loop: 2560 / 15180, loop: 2570 / 15180, loop: 2580 / 15180, loop: 2590 / 15180, loop: 2600 / 15180, loop: 2610 / 15180, loop: 2620 / 15180, loop: 2630 / 15180, loop: 2640 / 15180, loop: 2650 / 15180, loop: 2660 / 15180, loop: 2670 / 15180, loop: 2680 / 15180, loop: 2690 / 15180, loop: 2700 / 15180, loop: 2710 / 15180, loop: 2720 / 15180, loop: 2730 / 15180, loop: 2740 / 15180, loop: 2750 / 15180, loop: 2760 / 15180, loop: 2770 / 15180, loop: 2780 / 15180, loop: 2790 / 15180, loop: 2800 / 15180, loop: 2810 / 15180, loop: 2820 / 15180, 2827 번 째 URL에서 에러가 발생하였습니다.\n",
      "loop: 2830 / 15180, loop: 2840 / 15180, loop: 2850 / 15180, loop: 2860 / 15180, loop: 2870 / 15180, loop: 2880 / 15180, loop: 2890 / 15180, loop: 2900 / 15180, loop: 2910 / 15180, loop: 2920 / 15180, loop: 2930 / 15180, 2933 번 째 URL에서 에러가 발생하였습니다.\n",
      "loop: 2940 / 15180, 2942 번 째 URL에서 에러가 발생하였습니다.\n",
      "loop: 2950 / 15180, loop: 2960 / 15180, loop: 2970 / 15180, loop: 2980 / 15180, loop: 2990 / 15180, loop: 3000 / 15180, loop: 3010 / 15180, loop: 3020 / 15180, loop: 3030 / 15180, loop: 3040 / 15180, loop: 3050 / 15180, loop: 3060 / 15180, loop: 3070 / 15180, loop: 3080 / 15180, loop: 3090 / 15180, loop: 3100 / 15180, 3101 번 째 URL에서 에러가 발생하였습니다.\n",
      "loop: 3110 / 15180, loop: 3120 / 15180, loop: 3130 / 15180, loop: 3140 / 15180, loop: 3150 / 15180, loop: 3160 / 15180, loop: 3170 / 15180, loop: 3180 / 15180, loop: 3190 / 15180, loop: 3200 / 15180, loop: 3210 / 15180, loop: 3220 / 15180, loop: 3230 / 15180, loop: 3240 / 15180, loop: 3250 / 15180, loop: 3260 / 15180, loop: 3270 / 15180, loop: 3280 / 15180, loop: 3290 / 15180, loop: 3300 / 15180, loop: 3310 / 15180, loop: 3320 / 15180, loop: 3330 / 15180, loop: 3340 / 15180, loop: 3350 / 15180, loop: 3360 / 15180, loop: 3370 / 15180, loop: 3380 / 15180, loop: 3390 / 15180, loop: 3400 / 15180, loop: 3410 / 15180, loop: 3420 / 15180, loop: 3430 / 15180, loop: 3440 / 15180, loop: 3450 / 15180, loop: 3460 / 15180, loop: 3470 / 15180, loop: 3480 / 15180, loop: 3490 / 15180, loop: 3500 / 15180, loop: 3510 / 15180, loop: 3520 / 15180, loop: 3530 / 15180, loop: 3540 / 15180, loop: 3550 / 15180, loop: 3560 / 15180, loop: 3570 / 15180, loop: 3580 / 15180, loop: 3590 / 15180, loop: 3600 / 15180, loop: 3610 / 15180, loop: 3620 / 15180, loop: 3630 / 15180, loop: 3640 / 15180, loop: 3650 / 15180, loop: 3660 / 15180, loop: 3670 / 15180, 3680 번 째 URL에서 에러가 발생하였습니다.\n",
      "loop: 3690 / 15180, loop: 3700 / 15180, loop: 3710 / 15180, loop: 3720 / 15180, loop: 3730 / 15180, loop: 3740 / 15180, loop: 3750 / 15180, loop: 3760 / 15180, loop: 3770 / 15180, loop: 3780 / 15180, 3782 번 째 URL에서 에러가 발생하였습니다.\n",
      "loop: 3790 / 15180, loop: 3800 / 15180, loop: 3810 / 15180, loop: 3820 / 15180, loop: 3830 / 15180, loop: 3840 / 15180, loop: 3850 / 15180, loop: 3860 / 15180, 3870 번 째 URL에서 에러가 발생하였습니다.\n",
      "loop: 3880 / 15180, loop: 3890 / 15180, loop: 3900 / 15180, loop: 3910 / 15180, loop: 3920 / 15180, loop: 3930 / 15180, loop: 3940 / 15180, loop: 3950 / 15180, loop: 3960 / 15180, loop: 3970 / 15180, loop: 3980 / 15180, loop: 3990 / 15180, loop: 4000 / 15180, loop: 4010 / 15180, loop: 4020 / 15180, loop: 4030 / 15180, loop: 4040 / 15180, loop: 4050 / 15180, loop: 4060 / 15180, loop: 4070 / 15180, loop: 4080 / 15180, loop: 4090 / 15180, loop: 4100 / 15180, loop: 4110 / 15180, loop: 4120 / 15180, loop: 4130 / 15180, loop: 4140 / 15180, loop: 4150 / 15180, loop: 4160 / 15180, loop: 4170 / 15180, loop: 4180 / 15180, loop: 4190 / 15180, loop: 4200 / 15180, loop: 4210 / 15180, loop: 4220 / 15180, loop: 4230 / 15180, loop: 4240 / 15180, loop: 4250 / 15180, loop: 4260 / 15180, loop: 4270 / 15180, loop: 4280 / 15180, loop: 4290 / 15180, loop: 4300 / 15180, loop: 4310 / 15180, 4318 번 째 URL에서 에러가 발생하였습니다.\n",
      "loop: 4320 / 15180, loop: 4330 / 15180, loop: 4340 / 15180, loop: 4350 / 15180, loop: 4360 / 15180, loop: 4370 / 15180, loop: 4380 / 15180, loop: 4390 / 15180, loop: 4400 / 15180, loop: 4410 / 15180, loop: 4420 / 15180, loop: 4430 / 15180, loop: 4440 / 15180, loop: 4450 / 15180, loop: 4460 / 15180, loop: 4470 / 15180, loop: 4480 / 15180, loop: 4490 / 15180, loop: 4500 / 15180, loop: 4510 / 15180, loop: 4520 / 15180, loop: 4530 / 15180, loop: 4540 / 15180, loop: 4550 / 15180, loop: 4560 / 15180, loop: 4570 / 15180, 4574 번 째 URL에서 에러가 발생하였습니다.\n",
      "loop: 4580 / 15180, loop: 4590 / 15180, loop: 4600 / 15180, loop: 4610 / 15180, loop: 4620 / 15180, loop: 4630 / 15180, loop: 4640 / 15180, loop: 4650 / 15180, loop: 4660 / 15180, loop: 4670 / 15180, loop: 4680 / 15180, loop: 4690 / 15180, loop: 4700 / 15180, loop: 4710 / 15180, loop: 4720 / 15180, loop: 4730 / 15180, loop: 4740 / 15180, loop: 4750 / 15180, loop: 4760 / 15180, loop: 4770 / 15180, loop: 4780 / 15180, loop: 4790 / 15180, loop: 4800 / 15180, loop: 4810 / 15180, loop: 4820 / 15180, loop: 4830 / 15180, loop: 4840 / 15180, loop: 4850 / 15180, loop: 4860 / 15180, loop: 4870 / 15180, loop: 4880 / 15180, loop: 4890 / 15180, 4892 번 째 URL에서 에러가 발생하였습니다.\n",
      "loop: 4900 / 15180, loop: 4910 / 15180, loop: 4920 / 15180, loop: 4930 / 15180, loop: 4940 / 15180, loop: 4950 / 15180, loop: 4960 / 15180, loop: 4970 / 15180, loop: 4980 / 15180, loop: 4990 / 15180, loop: 5000 / 15180, loop: 5010 / 15180, loop: 5020 / 15180, loop: 5030 / 15180, loop: 5040 / 15180, loop: 5050 / 15180, loop: 5060 / 15180, loop: 5070 / 15180, loop: 5080 / 15180, loop: 5090 / 15180, loop: 5100 / 15180, loop: 5110 / 15180, loop: 5120 / 15180, loop: 5130 / 15180, loop: 5140 / 15180, loop: 5150 / 15180, loop: 5160 / 15180, loop: 5170 / 15180, loop: 5180 / 15180, loop: 5190 / 15180, loop: 5200 / 15180, loop: 5210 / 15180, loop: 5220 / 15180, loop: 5230 / 15180, loop: 5240 / 15180, loop: 5250 / 15180, loop: 5260 / 15180, loop: 5270 / 15180, loop: 5280 / 15180, loop: 5290 / 15180, loop: 5300 / 15180, loop: 5310 / 15180, loop: 5320 / 15180, loop: 5330 / 15180, loop: 5340 / 15180, loop: 5350 / 15180, loop: 5360 / 15180, loop: 5370 / 15180, loop: 5380 / 15180, loop: 5390 / 15180, loop: 5400 / 15180, loop: 5410 / 15180, loop: 5420 / 15180, loop: 5430 / 15180, loop: 5440 / 15180, loop: 5450 / 15180, loop: 5460 / 15180, loop: 5470 / 15180, loop: 5480 / 15180, loop: 5490 / 15180, loop: 5500 / 15180, loop: 5510 / 15180, loop: 5520 / 15180, loop: 5530 / 15180, loop: 5540 / 15180, loop: 5550 / 15180, loop: 5560 / 15180, loop: 5570 / 15180, loop: 5580 / 15180, loop: 5590 / 15180, 5596 번 째 URL에서 에러가 발생하였습니다.\n",
      "loop: 5600 / 15180, loop: 5610 / 15180, loop: 5620 / 15180, loop: 5630 / 15180, loop: 5640 / 15180, loop: 5650 / 15180, loop: 5660 / 15180, loop: 5670 / 15180, loop: 5680 / 15180, loop: 5690 / 15180, loop: 5700 / 15180, loop: 5710 / 15180, loop: 5720 / 15180, loop: 5730 / 15180, loop: 5740 / 15180, 5748 번 째 URL에서 에러가 발생하였습니다.\n",
      "loop: 5750 / 15180, loop: 5760 / 15180, loop: 5770 / 15180, loop: 5780 / 15180, loop: 5790 / 15180, loop: 5800 / 15180, loop: 5810 / 15180, loop: 5820 / 15180, loop: 5830 / 15180, loop: 5840 / 15180, loop: 5850 / 15180, loop: 5860 / 15180, loop: 5870 / 15180, loop: 5880 / 15180, loop: 5890 / 15180, loop: 5900 / 15180, loop: 5910 / 15180, loop: 5920 / 15180, loop: 5930 / 15180, loop: 5940 / 15180, loop: 5950 / 15180, loop: 5960 / 15180, loop: 5970 / 15180, loop: 5980 / 15180, loop: 5990 / 15180, loop: 6000 / 15180, loop: 6010 / 15180, loop: 6020 / 15180, loop: 6030 / 15180, loop: 6040 / 15180, loop: 6050 / 15180, loop: 6060 / 15180, loop: 6070 / 15180, loop: 6080 / 15180, loop: 6090 / 15180, loop: 6100 / 15180, loop: 6110 / 15180, loop: 6120 / 15180, loop: 6130 / 15180, 6134 번 째 URL에서 에러가 발생하였습니다.\n",
      "loop: 6140 / 15180, loop: 6150 / 15180, loop: 6160 / 15180, loop: 6170 / 15180, loop: 6180 / 15180, loop: 6190 / 15180, loop: 6200 / 15180, loop: 6210 / 15180, loop: 6220 / 15180, loop: 6230 / 15180, loop: 6240 / 15180, loop: 6250 / 15180, loop: 6260 / 15180, loop: 6270 / 15180, loop: 6280 / 15180, loop: 6290 / 15180, loop: 6300 / 15180, loop: 6310 / 15180, loop: 6320 / 15180, loop: 6330 / 15180, loop: 6340 / 15180, loop: 6350 / 15180, 6358 번 째 URL에서 에러가 발생하였습니다.\n",
      "loop: 6360 / 15180, loop: 6370 / 15180, loop: 6380 / 15180, loop: 6390 / 15180, loop: 6400 / 15180, loop: 6410 / 15180, loop: 6420 / 15180, loop: 6430 / 15180, loop: 6440 / 15180, loop: 6450 / 15180, loop: 6460 / 15180, 6465 번 째 URL에서 에러가 발생하였습니다.\n",
      "loop: 6470 / 15180, loop: 6480 / 15180, loop: 6490 / 15180, loop: 6500 / 15180, loop: 6510 / 15180, loop: 6520 / 15180, loop: 6530 / 15180, loop: 6540 / 15180, loop: 6550 / 15180, loop: 6560 / 15180, loop: 6570 / 15180, loop: 6580 / 15180, loop: 6590 / 15180, loop: 6600 / 15180, loop: 6610 / 15180, loop: 6620 / 15180, 6629 번 째 URL에서 에러가 발생하였습니다.\n",
      "loop: 6630 / 15180, loop: 6640 / 15180, loop: 6650 / 15180, loop: 6660 / 15180, loop: 6670 / 15180, loop: 6680 / 15180, loop: 6690 / 15180, loop: 6700 / 15180, loop: 6710 / 15180, loop: 6720 / 15180, loop: 6730 / 15180, loop: 6740 / 15180, loop: 6750 / 15180, loop: 6760 / 15180, loop: 6770 / 15180, loop: 6780 / 15180, loop: 6790 / 15180, loop: 6800 / 15180, loop: 6810 / 15180, loop: 6820 / 15180, loop: 6830 / 15180, loop: 6840 / 15180, loop: 6850 / 15180, loop: 6860 / 15180, loop: 6870 / 15180, loop: 6880 / 15180, loop: 6890 / 15180, loop: 6900 / 15180, loop: 6910 / 15180, loop: 6920 / 15180, loop: 6930 / 15180, loop: 6940 / 15180, loop: 6950 / 15180, loop: 6960 / 15180, loop: 6970 / 15180, loop: 6980 / 15180, loop: 6990 / 15180, loop: 7000 / 15180, loop: 7010 / 15180, loop: 7020 / 15180, loop: 7030 / 15180, loop: 7040 / 15180, loop: 7050 / 15180, loop: 7060 / 15180, loop: 7070 / 15180, 7072 번 째 URL에서 에러가 발생하였습니다.\n",
      "loop: 7080 / 15180, loop: 7090 / 15180, loop: 7100 / 15180, loop: 7110 / 15180, loop: 7120 / 15180, loop: 7130 / 15180, loop: 7140 / 15180, loop: 7150 / 15180, loop: 7160 / 15180, loop: 7170 / 15180, loop: 7180 / 15180, loop: 7190 / 15180, loop: 7200 / 15180, loop: 7210 / 15180, loop: 7220 / 15180, loop: 7230 / 15180, loop: 7240 / 15180, loop: 7250 / 15180, loop: 7260 / 15180, loop: 7270 / 15180, loop: 7280 / 15180, loop: 7290 / 15180, loop: 7300 / 15180, loop: 7310 / 15180, loop: 7320 / 15180, loop: 7330 / 15180, loop: 7340 / 15180, loop: 7350 / 15180, loop: 7360 / 15180, loop: 7370 / 15180, 7378 번 째 URL에서 에러가 발생하였습니다.\n",
      "loop: 7380 / 15180, loop: 7390 / 15180, loop: 7400 / 15180, loop: 7410 / 15180, loop: 7420 / 15180, loop: 7430 / 15180, loop: 7440 / 15180, loop: 7450 / 15180, loop: 7460 / 15180, loop: 7470 / 15180, loop: 7480 / 15180, loop: 7490 / 15180, loop: 7500 / 15180, loop: 7510 / 15180, loop: 7520 / 15180, loop: 7530 / 15180, loop: 7540 / 15180, loop: 7550 / 15180, loop: 7560 / 15180, loop: 7570 / 15180, loop: 7580 / 15180, loop: 7590 / 15180, loop: 7600 / 15180, loop: 7610 / 15180, loop: 7620 / 15180, loop: 7630 / 15180, loop: 7640 / 15180, loop: 7650 / 15180, loop: 7660 / 15180, 7668 번 째 URL에서 에러가 발생하였습니다.\n",
      "loop: 7670 / 15180, loop: 7680 / 15180, loop: 7690 / 15180, loop: 7700 / 15180, loop: 7710 / 15180, loop: 7720 / 15180, loop: 7730 / 15180, loop: 7740 / 15180, loop: 7750 / 15180, loop: 7760 / 15180, loop: 7770 / 15180, 7780 번 째 URL에서 에러가 발생하였습니다.\n"
     ]
    },
    {
     "name": "stdout",
     "output_type": "stream",
     "text": [
      "loop: 7790 / 15180, loop: 7800 / 15180, loop: 7810 / 15180, loop: 7820 / 15180, loop: 7830 / 15180, loop: 7840 / 15180, loop: 7850 / 15180, loop: 7860 / 15180, loop: 7870 / 15180, loop: 7880 / 15180, loop: 7890 / 15180, loop: 7900 / 15180, loop: 7910 / 15180, loop: 7920 / 15180, loop: 7930 / 15180, loop: 7940 / 15180, loop: 7950 / 15180, loop: 7960 / 15180, loop: 7970 / 15180, loop: 7980 / 15180, loop: 7990 / 15180, 7995 번 째 URL에서 에러가 발생하였습니다.\n",
      "loop: 8000 / 15180, loop: 8010 / 15180, loop: 8020 / 15180, loop: 8030 / 15180, loop: 8040 / 15180, loop: 8050 / 15180, loop: 8060 / 15180, loop: 8070 / 15180, loop: 8080 / 15180, loop: 8090 / 15180, loop: 8100 / 15180, loop: 8110 / 15180, loop: 8120 / 15180, loop: 8130 / 15180, loop: 8140 / 15180, loop: 8150 / 15180, 8154 번 째 URL에서 에러가 발생하였습니다.\n",
      "loop: 8160 / 15180, 8167 번 째 URL에서 에러가 발생하였습니다.\n",
      "loop: 8170 / 15180, loop: 8180 / 15180, loop: 8190 / 15180, loop: 8200 / 15180, loop: 8210 / 15180, loop: 8220 / 15180, loop: 8230 / 15180, loop: 8240 / 15180, loop: 8250 / 15180, loop: 8260 / 15180, loop: 8270 / 15180, loop: 8280 / 15180, loop: 8290 / 15180, loop: 8300 / 15180, loop: 8310 / 15180, loop: 8320 / 15180, loop: 8330 / 15180, loop: 8340 / 15180, loop: 8350 / 15180, loop: 8360 / 15180, loop: 8370 / 15180, loop: 8380 / 15180, loop: 8390 / 15180, loop: 8400 / 15180, loop: 8410 / 15180, loop: 8420 / 15180, loop: 8430 / 15180, loop: 8440 / 15180, loop: 8450 / 15180, loop: 8460 / 15180, loop: 8470 / 15180, loop: 8480 / 15180, loop: 8490 / 15180, loop: 8500 / 15180, loop: 8510 / 15180, loop: 8520 / 15180, loop: 8530 / 15180, loop: 8540 / 15180, 8546 번 째 URL에서 에러가 발생하였습니다.\n",
      "loop: 8550 / 15180, loop: 8560 / 15180, loop: 8570 / 15180, loop: 8580 / 15180, loop: 8590 / 15180, loop: 8600 / 15180, loop: 8610 / 15180, loop: 8620 / 15180, loop: 8630 / 15180, loop: 8640 / 15180, loop: 8650 / 15180, loop: 8660 / 15180, loop: 8670 / 15180, loop: 8680 / 15180, loop: 8690 / 15180, loop: 8700 / 15180, loop: 8710 / 15180, loop: 8720 / 15180, loop: 8730 / 15180, loop: 8740 / 15180, loop: 8750 / 15180, loop: 8760 / 15180, loop: 8770 / 15180, 8778 번 째 URL에서 에러가 발생하였습니다.\n",
      "loop: 8780 / 15180, loop: 8790 / 15180, loop: 8800 / 15180, loop: 8810 / 15180, loop: 8820 / 15180, loop: 8830 / 15180, loop: 8840 / 15180, loop: 8850 / 15180, loop: 8860 / 15180, loop: 8870 / 15180, loop: 8880 / 15180, loop: 8890 / 15180, loop: 8900 / 15180, loop: 8910 / 15180, loop: 8920 / 15180, 8927 번 째 URL에서 에러가 발생하였습니다.\n",
      "loop: 8930 / 15180, loop: 8940 / 15180, loop: 8950 / 15180, loop: 8960 / 15180, loop: 8970 / 15180, loop: 8980 / 15180, loop: 8990 / 15180, loop: 9000 / 15180, loop: 9010 / 15180, loop: 9020 / 15180, loop: 9030 / 15180, loop: 9040 / 15180, loop: 9050 / 15180, loop: 9060 / 15180, loop: 9070 / 15180, 9076 번 째 URL에서 에러가 발생하였습니다.\n",
      "loop: 9080 / 15180, loop: 9090 / 15180, loop: 9100 / 15180, loop: 9110 / 15180, loop: 9120 / 15180, loop: 9130 / 15180, loop: 9140 / 15180, loop: 9150 / 15180, loop: 9160 / 15180, loop: 9170 / 15180, loop: 9180 / 15180, loop: 9190 / 15180, loop: 9200 / 15180, loop: 9210 / 15180, loop: 9220 / 15180, loop: 9230 / 15180, loop: 9240 / 15180, loop: 9250 / 15180, loop: 9260 / 15180, loop: 9270 / 15180, loop: 9280 / 15180, loop: 9290 / 15180, loop: 9300 / 15180, loop: 9310 / 15180, loop: 9320 / 15180, loop: 9330 / 15180, loop: 9340 / 15180, loop: 9350 / 15180, loop: 9360 / 15180, loop: 9370 / 15180, loop: 9380 / 15180, loop: 9390 / 15180, loop: 9400 / 15180, loop: 9410 / 15180, loop: 9420 / 15180, loop: 9430 / 15180, loop: 9440 / 15180, loop: 9450 / 15180, loop: 9460 / 15180, loop: 9470 / 15180, loop: 9480 / 15180, loop: 9490 / 15180, loop: 9500 / 15180, loop: 9510 / 15180, loop: 9520 / 15180, loop: 9530 / 15180, loop: 9540 / 15180, 9550 번 째 URL에서 에러가 발생하였습니다.\n",
      "loop: 9560 / 15180, loop: 9570 / 15180, loop: 9580 / 15180, loop: 9590 / 15180, loop: 9600 / 15180, loop: 9610 / 15180, loop: 9620 / 15180, loop: 9630 / 15180, loop: 9640 / 15180, loop: 9650 / 15180, loop: 9660 / 15180, loop: 9670 / 15180, loop: 9680 / 15180, loop: 9690 / 15180, loop: 9700 / 15180, loop: 9710 / 15180, loop: 9720 / 15180, loop: 9730 / 15180, loop: 9740 / 15180, loop: 9750 / 15180, loop: 9760 / 15180, loop: 9770 / 15180, loop: 9780 / 15180, loop: 9790 / 15180, loop: 9800 / 15180, loop: 9810 / 15180, loop: 9820 / 15180, loop: 9830 / 15180, loop: 9840 / 15180, loop: 9850 / 15180, loop: 9860 / 15180, loop: 9870 / 15180, loop: 9880 / 15180, loop: 9890 / 15180, loop: 9900 / 15180, loop: 9910 / 15180, loop: 9920 / 15180, loop: 9930 / 15180, loop: 9940 / 15180, loop: 9950 / 15180, loop: 9960 / 15180, loop: 9970 / 15180, loop: 9980 / 15180, loop: 9990 / 15180, loop: 10000 / 15180, loop: 10010 / 15180, loop: 10020 / 15180, loop: 10030 / 15180, loop: 10040 / 15180, loop: 10050 / 15180, loop: 10060 / 15180, loop: 10070 / 15180, loop: 10080 / 15180, loop: 10090 / 15180, loop: 10100 / 15180, loop: 10110 / 15180, loop: 10120 / 15180, loop: 10130 / 15180, loop: 10140 / 15180, loop: 10150 / 15180, loop: 10160 / 15180, loop: 10170 / 15180, loop: 10180 / 15180, 10186 번 째 URL에서 에러가 발생하였습니다.\n",
      "loop: 10190 / 15180, loop: 10200 / 15180, loop: 10210 / 15180, loop: 10220 / 15180, loop: 10230 / 15180, 10240 번 째 URL에서 에러가 발생하였습니다.\n",
      "loop: 10250 / 15180, loop: 10260 / 15180, loop: 10270 / 15180, loop: 10280 / 15180, loop: 10290 / 15180, loop: 10300 / 15180, loop: 10310 / 15180, loop: 10320 / 15180, loop: 10330 / 15180, loop: 10340 / 15180, loop: 10350 / 15180, loop: 10360 / 15180, loop: 10370 / 15180, 10372 번 째 URL에서 에러가 발생하였습니다.\n",
      "loop: 10380 / 15180, loop: 10390 / 15180, loop: 10400 / 15180, loop: 10410 / 15180, loop: 10420 / 15180, loop: 10430 / 15180, loop: 10440 / 15180, loop: 10450 / 15180, loop: 10460 / 15180, loop: 10470 / 15180, loop: 10480 / 15180, loop: 10490 / 15180, loop: 10500 / 15180, loop: 10510 / 15180, loop: 10520 / 15180, loop: 10530 / 15180, loop: 10540 / 15180, loop: 10550 / 15180, loop: 10560 / 15180, loop: 10570 / 15180, loop: 10580 / 15180, loop: 10590 / 15180, loop: 10600 / 15180, loop: 10610 / 15180, loop: 10620 / 15180, loop: 10630 / 15180, loop: 10640 / 15180, loop: 10650 / 15180, loop: 10660 / 15180, loop: 10670 / 15180, loop: 10680 / 15180, loop: 10690 / 15180, loop: 10700 / 15180, loop: 10710 / 15180, loop: 10720 / 15180, 10729 번 째 URL에서 에러가 발생하였습니다.\n",
      "loop: 10730 / 15180, loop: 10740 / 15180, loop: 10750 / 15180, loop: 10760 / 15180, loop: 10770 / 15180, loop: 10780 / 15180, loop: 10790 / 15180, loop: 10800 / 15180, loop: 10810 / 15180, loop: 10820 / 15180, loop: 10830 / 15180, loop: 10840 / 15180, loop: 10850 / 15180, loop: 10860 / 15180, loop: 10870 / 15180, loop: 10880 / 15180, 10883 번 째 URL에서 에러가 발생하였습니다.\n",
      "loop: 10890 / 15180, loop: 10900 / 15180, loop: 10910 / 15180, loop: 10920 / 15180, loop: 10930 / 15180, loop: 10940 / 15180, loop: 10950 / 15180, loop: 10960 / 15180, loop: 10970 / 15180, loop: 10980 / 15180, loop: 10990 / 15180, loop: 11000 / 15180, 11002 번 째 URL에서 에러가 발생하였습니다.\n",
      "loop: 11010 / 15180, loop: 11020 / 15180, loop: 11030 / 15180, loop: 11040 / 15180, loop: 11050 / 15180, loop: 11060 / 15180, loop: 11070 / 15180, loop: 11080 / 15180, loop: 11090 / 15180, loop: 11100 / 15180, loop: 11110 / 15180, loop: 11120 / 15180, loop: 11130 / 15180, loop: 11140 / 15180, loop: 11150 / 15180, loop: 11160 / 15180, loop: 11170 / 15180, loop: 11180 / 15180, loop: 11190 / 15180, loop: 11200 / 15180, loop: 11210 / 15180, loop: 11220 / 15180, loop: 11230 / 15180, loop: 11240 / 15180, loop: 11250 / 15180, loop: 11260 / 15180, loop: 11270 / 15180, loop: 11280 / 15180, loop: 11290 / 15180, loop: 11300 / 15180, loop: 11310 / 15180, loop: 11320 / 15180, loop: 11330 / 15180, loop: 11340 / 15180, loop: 11350 / 15180, loop: 11360 / 15180, loop: 11370 / 15180, loop: 11380 / 15180, loop: 11390 / 15180, loop: 11400 / 15180, loop: 11410 / 15180, loop: 11420 / 15180, loop: 11430 / 15180, loop: 11440 / 15180, loop: 11450 / 15180, loop: 11460 / 15180, loop: 11470 / 15180, loop: 11480 / 15180, loop: 11490 / 15180, loop: 11500 / 15180, loop: 11510 / 15180, loop: 11520 / 15180, loop: 11530 / 15180, loop: 11540 / 15180, loop: 11550 / 15180, loop: 11560 / 15180, loop: 11570 / 15180, loop: 11580 / 15180, loop: 11590 / 15180, loop: 11600 / 15180, loop: 11610 / 15180, loop: 11620 / 15180, loop: 11630 / 15180, loop: 11640 / 15180, loop: 11650 / 15180, loop: 11660 / 15180, loop: 11670 / 15180, loop: 11680 / 15180, loop: 11690 / 15180, loop: 11700 / 15180, loop: 11710 / 15180, loop: 11720 / 15180, loop: 11730 / 15180, loop: 11740 / 15180, loop: 11750 / 15180, loop: 11760 / 15180, loop: 11770 / 15180, loop: 11780 / 15180, loop: 11790 / 15180, loop: 11800 / 15180, loop: 11810 / 15180, loop: 11820 / 15180, loop: 11830 / 15180, loop: 11840 / 15180, loop: 11850 / 15180, loop: 11860 / 15180, loop: 11870 / 15180, loop: 11880 / 15180, loop: 11890 / 15180, loop: 11900 / 15180, loop: 11910 / 15180, loop: 11920 / 15180, loop: 11930 / 15180, loop: 11940 / 15180, loop: 11950 / 15180, loop: 11960 / 15180, loop: 11970 / 15180, loop: 11980 / 15180, loop: 11990 / 15180, loop: 12000 / 15180, loop: 12010 / 15180, loop: 12020 / 15180, loop: 12030 / 15180, loop: 12040 / 15180, loop: 12050 / 15180, loop: 12060 / 15180, loop: 12070 / 15180, loop: 12080 / 15180, loop: 12090 / 15180, loop: 12100 / 15180, loop: 12110 / 15180, loop: 12120 / 15180, loop: 12130 / 15180, loop: 12140 / 15180, loop: 12150 / 15180, loop: 12160 / 15180, loop: 12170 / 15180, loop: 12180 / 15180, loop: 12190 / 15180, loop: 12200 / 15180, loop: 12210 / 15180, loop: 12220 / 15180, loop: 12230 / 15180, loop: 12240 / 15180, loop: 12250 / 15180, loop: 12260 / 15180, loop: 12270 / 15180, loop: 12280 / 15180, loop: 12290 / 15180, loop: 12300 / 15180, loop: 12310 / 15180, loop: 12320 / 15180, loop: 12330 / 15180, loop: 12340 / 15180, loop: 12350 / 15180, 12354 번 째 URL에서 에러가 발생하였습니다.\n",
      "loop: 12360 / 15180, loop: 12370 / 15180, loop: 12380 / 15180, loop: 12390 / 15180, loop: 12400 / 15180, loop: 12410 / 15180, loop: 12420 / 15180, loop: 12430 / 15180, loop: 12440 / 15180, loop: 12450 / 15180, loop: 12460 / 15180, loop: 12470 / 15180, loop: 12480 / 15180, loop: 12490 / 15180, loop: 12500 / 15180, 12501 번 째 URL에서 에러가 발생하였습니다.\n",
      "loop: 12510 / 15180, loop: 12520 / 15180, loop: 12530 / 15180, loop: 12540 / 15180, loop: 12550 / 15180, loop: 12560 / 15180, loop: 12570 / 15180, loop: 12580 / 15180, loop: 12590 / 15180, loop: 12600 / 15180, loop: 12610 / 15180, loop: 12620 / 15180, loop: 12630 / 15180, loop: 12640 / 15180, loop: 12650 / 15180, loop: 12660 / 15180, loop: 12670 / 15180, 12677 번 째 URL에서 에러가 발생하였습니다.\n",
      "loop: 12680 / 15180, loop: 12690 / 15180, loop: 12700 / 15180, loop: 12710 / 15180, loop: 12720 / 15180, loop: 12730 / 15180, loop: 12740 / 15180, loop: 12750 / 15180, loop: 12760 / 15180, loop: 12770 / 15180, loop: 12780 / 15180, loop: 12790 / 15180, loop: 12800 / 15180, loop: 12810 / 15180, loop: 12820 / 15180, loop: 12830 / 15180, loop: 12840 / 15180, loop: 12850 / 15180, loop: 12860 / 15180, loop: 12870 / 15180, loop: 12880 / 15180, loop: 12890 / 15180, loop: 12900 / 15180, loop: 12910 / 15180, loop: 12920 / 15180, loop: 12930 / 15180, loop: 12940 / 15180, 12944 번 째 URL에서 에러가 발생하였습니다.\n",
      "loop: 12950 / 15180, loop: 12960 / 15180, loop: 12970 / 15180, loop: 12980 / 15180, loop: 12990 / 15180, loop: 13000 / 15180, loop: 13010 / 15180, loop: 13020 / 15180, loop: 13030 / 15180, loop: 13040 / 15180, loop: 13050 / 15180, loop: 13060 / 15180, loop: 13070 / 15180, loop: 13080 / 15180, loop: 13090 / 15180, loop: 13100 / 15180, loop: 13110 / 15180, loop: 13120 / 15180, loop: 13130 / 15180, loop: 13140 / 15180, loop: 13150 / 15180, loop: 13160 / 15180, loop: 13170 / 15180, loop: 13180 / 15180, loop: 13190 / 15180, loop: 13200 / 15180, loop: 13210 / 15180, loop: 13220 / 15180, loop: 13230 / 15180, loop: 13240 / 15180, loop: 13250 / 15180, loop: 13260 / 15180, loop: 13270 / 15180, loop: 13280 / 15180, loop: 13290 / 15180, loop: 13300 / 15180, loop: 13310 / 15180, loop: 13320 / 15180, loop: 13330 / 15180, loop: 13340 / 15180, loop: 13350 / 15180, loop: 13360 / 15180, loop: 13370 / 15180, loop: 13380 / 15180, loop: 13390 / 15180, loop: 13400 / 15180, loop: 13410 / 15180, loop: 13420 / 15180, loop: 13430 / 15180, loop: 13440 / 15180, loop: 13450 / 15180, loop: 13460 / 15180, loop: 13470 / 15180, loop: 13480 / 15180, loop: 13490 / 15180, loop: 13500 / 15180, loop: 13510 / 15180, loop: 13520 / 15180, loop: 13530 / 15180, loop: 13540 / 15180, loop: 13550 / 15180, loop: 13560 / 15180, loop: 13570 / 15180, loop: 13580 / 15180, loop: 13590 / 15180, loop: 13600 / 15180, 13610 번 째 URL에서 에러가 발생하였습니다.\n",
      "loop: 13620 / 15180, loop: 13630 / 15180, loop: 13640 / 15180, loop: 13650 / 15180, loop: 13660 / 15180, loop: 13670 / 15180, loop: 13680 / 15180, loop: 13690 / 15180, loop: 13700 / 15180, loop: 13710 / 15180, loop: 13720 / 15180, loop: 13730 / 15180, loop: 13740 / 15180, loop: 13750 / 15180, loop: 13760 / 15180, loop: 13770 / 15180, loop: 13780 / 15180, loop: 13790 / 15180, loop: 13800 / 15180, 13807 번 째 URL에서 에러가 발생하였습니다.\n",
      "loop: 13810 / 15180, loop: 13820 / 15180, loop: 13830 / 15180, loop: 13840 / 15180, loop: 13850 / 15180, loop: 13860 / 15180, loop: 13870 / 15180, loop: 13880 / 15180, loop: 13890 / 15180, loop: 13900 / 15180, loop: 13910 / 15180, loop: 13920 / 15180, loop: 13930 / 15180, loop: 13940 / 15180, loop: 13950 / 15180, loop: 13960 / 15180, loop: 13970 / 15180, loop: 13980 / 15180, loop: 13990 / 15180, loop: 14000 / 15180, loop: 14010 / 15180, loop: 14020 / 15180, loop: 14030 / 15180, loop: 14040 / 15180, loop: 14050 / 15180, 14059 번 째 URL에서 에러가 발생하였습니다.\n",
      "loop: 14060 / 15180, loop: 14070 / 15180, loop: 14080 / 15180, loop: 14090 / 15180, loop: 14100 / 15180, loop: 14110 / 15180, loop: 14120 / 15180, loop: 14130 / 15180, loop: 14140 / 15180, loop: 14150 / 15180, loop: 14160 / 15180, loop: 14170 / 15180, loop: 14180 / 15180, loop: 14190 / 15180, loop: 14200 / 15180, loop: 14210 / 15180, loop: 14220 / 15180, loop: 14230 / 15180, loop: 14240 / 15180, loop: 14250 / 15180, loop: 14260 / 15180, 14261 번 째 URL에서 에러가 발생하였습니다.\n",
      "loop: 14270 / 15180, loop: 14280 / 15180, loop: 14290 / 15180, loop: 14300 / 15180, loop: 14310 / 15180, loop: 14320 / 15180, loop: 14330 / 15180, loop: 14340 / 15180, 14347 번 째 URL에서 에러가 발생하였습니다.\n"
     ]
    },
    {
     "name": "stdout",
     "output_type": "stream",
     "text": [
      "loop: 14350 / 15180, loop: 14360 / 15180, loop: 14370 / 15180, loop: 14380 / 15180, loop: 14390 / 15180, loop: 14400 / 15180, loop: 14410 / 15180, loop: 14420 / 15180, loop: 14430 / 15180, loop: 14440 / 15180, loop: 14450 / 15180, loop: 14460 / 15180, loop: 14470 / 15180, loop: 14480 / 15180, loop: 14490 / 15180, loop: 14500 / 15180, loop: 14510 / 15180, loop: 14520 / 15180, loop: 14530 / 15180, loop: 14540 / 15180, loop: 14550 / 15180, loop: 14560 / 15180, loop: 14570 / 15180, loop: 14580 / 15180, loop: 14590 / 15180, loop: 14600 / 15180, loop: 14610 / 15180, loop: 14620 / 15180, loop: 14630 / 15180, loop: 14640 / 15180, loop: 14650 / 15180, loop: 14660 / 15180, loop: 14670 / 15180, loop: 14680 / 15180, loop: 14690 / 15180, loop: 14700 / 15180, loop: 14710 / 15180, loop: 14720 / 15180, loop: 14730 / 15180, loop: 14740 / 15180, loop: 14750 / 15180, loop: 14760 / 15180, loop: 14770 / 15180, loop: 14780 / 15180, loop: 14790 / 15180, loop: 14800 / 15180, loop: 14810 / 15180, loop: 14820 / 15180, loop: 14830 / 15180, loop: 14840 / 15180, loop: 14850 / 15180, loop: 14860 / 15180, loop: 14870 / 15180, loop: 14880 / 15180, loop: 14890 / 15180, loop: 14900 / 15180, loop: 14910 / 15180, loop: 14920 / 15180, loop: 14930 / 15180, loop: 14940 / 15180, loop: 14950 / 15180, loop: 14960 / 15180, loop: 14970 / 15180, loop: 14980 / 15180, loop: 14990 / 15180, loop: 15000 / 15180, loop: 15010 / 15180, loop: 15020 / 15180, loop: 15030 / 15180, loop: 15040 / 15180, loop: 15050 / 15180, loop: 15060 / 15180, loop: 15070 / 15180, loop: 15080 / 15180, loop: 15090 / 15180, loop: 15100 / 15180, loop: 15110 / 15180, loop: 15120 / 15180, loop: 15130 / 15180, loop: 15140 / 15180, loop: 15150 / 15180, loop: 15160 / 15180, loop: 15170 / 15180, loop: 15180 / 15180, "
     ]
    }
   ],
   "source": [
    "%%time\n",
    "\n",
    "result_dt = pd.DataFrame([])\n",
    "i = 1\n",
    "for url in urls:\n",
    "    try:\n",
    "        driver.get(url)\n",
    "        time.sleep(0.2)\n",
    "\n",
    "        writer = driver.find_element_by_css_selector(\".FPmhX.notranslate.TlrDj\").text\n",
    "        contents = driver.find_element_by_css_selector(\".gElp9:nth-of-type(1) span\").text\n",
    "        tags = driver.find_elements_by_css_selector(\".gElp9:nth-of-type(1) span a\")\n",
    "        tags_li = []\n",
    "        for tag in tags:\n",
    "            tags_li.append(tag.text)\n",
    "\n",
    "        result_dt = result_dt.append(pd.DataFrame([[writer, contents, tags_li]], columns=[\"Writer\", \"Contents\", \"Tags\"]), ignore_index=True)\n",
    "\n",
    "        if i % 10 == 0:\n",
    "            print(\"loop:\", i, \"/\", len(urls), end=\", \")\n",
    "    except:\n",
    "        print(i,\"번 째 URL에서 에러가 발생하였습니다.\")\n",
    "    i += 1\n",
    "\n",
    "driver.close()\n",
    "\n"
   ]
  },
  {
   "cell_type": "code",
   "execution_count": 16,
   "metadata": {
    "collapsed": true
   },
   "outputs": [],
   "source": [
    "with open(\"result_dt_\" + query + \".pickle\", \"wb\") as f:\n",
    "    pickle.dump(result_dt, f)"
   ]
  },
  {
   "cell_type": "code",
   "execution_count": 17,
   "metadata": {},
   "outputs": [],
   "source": [
    "result_dt.to_clipboard()"
   ]
  },
  {
   "cell_type": "code",
   "execution_count": 18,
   "metadata": {},
   "outputs": [
    {
     "data": {
      "text/plain": [
       "'\\nwith open(\"rec_list.pickle\", \"wb\") as f:\\n    pickle.dump(rec_list, f)\\n'"
      ]
     },
     "execution_count": 18,
     "metadata": {},
     "output_type": "execute_result"
    }
   ],
   "source": [
    "'''\n",
    "with open(\"rec_list.pickle\", \"wb\") as f:\n",
    "    pickle.dump(rec_list, f)\n",
    "'''"
   ]
  },
  {
   "cell_type": "code",
   "execution_count": 19,
   "metadata": {},
   "outputs": [
    {
     "data": {
      "text/plain": [
       "'\\nwith open(\"rec_list.piccle\", \"rb\") as f:\\n    data = pickle.load(f)\\n    print(data)\\n'"
      ]
     },
     "execution_count": 19,
     "metadata": {},
     "output_type": "execute_result"
    }
   ],
   "source": [
    "'''\n",
    "with open(\"rec_list.piccle\", \"rb\") as f:\n",
    "    data = pickle.load(f)\n",
    "    print(data)\n",
    "'''"
   ]
  }
 ],
 "metadata": {
  "kernelspec": {
   "display_name": "Python 3",
   "language": "python",
   "name": "python3"
  },
  "language_info": {
   "codemirror_mode": {
    "name": "ipython",
    "version": 3
   },
   "file_extension": ".py",
   "mimetype": "text/x-python",
   "name": "python",
   "nbconvert_exporter": "python",
   "pygments_lexer": "ipython3",
   "version": "3.6.5"
  }
 },
 "nbformat": 4,
 "nbformat_minor": 2
}
