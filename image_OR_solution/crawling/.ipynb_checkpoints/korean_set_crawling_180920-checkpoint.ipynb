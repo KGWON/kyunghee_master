{
 "cells": [
  {
   "cell_type": "code",
   "execution_count": 1,
   "metadata": {
    "scrolled": true
   },
   "outputs": [],
   "source": [
    "## 필요한 모듈을 임포트한다.\n",
    "import pdb # 디버깅\n",
    "import time # 강제로 코드 휴식\n",
    "import random\n",
    "import urllib\n",
    "from selenium import webdriver \n",
    "from selenium.webdriver.chrome.options import Options\n",
    "from fake_useragent import UserAgent"
   ]
  },
  {
   "cell_type": "code",
   "execution_count": null,
   "metadata": {
    "scrolled": true
   },
   "outputs": [
    {
     "name": "stdout",
     "output_type": "stream",
     "text": [
      "[흡연 수명]:   1번째 페이지까지 완료되었습니다.   예시:흡연은 수명과 관련 없다? - 브런치\n",
      "[흡연 수명]:   2번째 페이지까지 완료되었습니다.   예시:담배 한 대가 얼마나 수명을 줄일까요? - Daum 팁\n",
      "[흡연 수명]:   3번째 페이지까지 완료되었습니다.   예시:'정자 수명 계산법' 개발…40세 흡연男 정자 나이 비교해보니\n",
      "[흡연 수명]:   4번째 페이지까지 완료되었습니다.   예시:충맥 임맥 자연 치유법 - Google 도서 검색결과\n",
      "[흡연 수명]:   5번째 페이지까지 완료되었습니다.   예시:청소년 흡연의 폐해 - 학생건강정보센터\n",
      "[흡연 수명]:   6번째 페이지까지 완료되었습니다.   예시:담배가 청소년에게 미치는 영향\n",
      "[흡연 수명]:   7번째 페이지까지 완료되었습니다.   예시:수명 줄이는 생활습관…탄산음료 잘못 마셨다간 담배 수준 - 중앙일보\n",
      "[흡연 수명]:   8번째 페이지까지 완료되었습니다.   예시:담배 1개비는 당신의 수명을 11분 단축시킬 수 있다 - 보스톤코리아\n"
     ]
    }
   ],
   "source": [
    "## 셀레니움 관련 크롬 옵션을 설정한다.(셀레니움을 사용할 때만 필요함.)\n",
    "chrome_options=Options()\n",
    "# ua = UserAgent()\n",
    "\n",
    "chrome_options.add_argument(\"--blink-settings=imagesEnabled=false\") # 이미지를 로드하지 않아 전체적인 페이지 로드 속도를 빠르게 하기.\n",
    "chrome_options.add_argument(\"disable-gpu\") # 그래픽 가속 사용 안함.\n",
    "# chrome_options.add_argument(\"headless\") # 창 없는 크롬으로 실행.\n",
    "chrome_options.add_argument(\"user-agent={}\".format(\"Mozilla/5.0 (Macintosh; Intel Mac OS X 10_12_6) AppleWebKit/537.36 (KHTML, like Gecko) Chrome/69.0.3497.100 Safari/537.36\")) # 유저 에이전트를 지정하여 크롤러라는 것을 숨기기.\n",
    "\n",
    "driver = webdriver.Chrome(\"/Users/ku/chromedriver\", chrome_options=chrome_options)\n",
    "\n",
    "driver.implicitly_wait(5)\n",
    "\n",
    "querys = [\"흡연 수명\", \"광고 매출\", \"운동 건강\", \"더위 전기료\", \"성실 성공\"]\n",
    "\n",
    "querys = list(map(lambda query: urllib.parse.quote(query), querys))\n",
    "\n",
    "korean_set_dic = {}\n",
    "\n",
    "error_logs_dic = {}\n",
    "\n",
    "for query in querys:\n",
    "\n",
    "    query_titles = []\n",
    "    \n",
    "    query_error_logs = []\n",
    "\n",
    "    for i in range(30):\n",
    "        \n",
    "        url = \"https://www.google.co.kr/search?q={}&biw=1152&bih=610&filter=0&start={}\".format(query, 10*(i))\n",
    "        \n",
    "        driver.get(url)\n",
    "\n",
    "        driver.implicitly_wait(5)\n",
    "        \n",
    "        try:\n",
    "            web_ele = driver.find_elements_by_css_selector(\"div.r > a > h3\")\n",
    "            \n",
    "            if len(web_ele) == 0:\n",
    "                web_ele = driver.find_elements_by_css_selector(\"div > h3 > a\")\n",
    "\n",
    "            temp_query_titles = list(map(lambda text: text.text, web_ele))   \n",
    "\n",
    "            query_titles.extend(temp_query_titles)\n",
    "\n",
    "        except:\n",
    "            query_error_logs.append(i)\n",
    "            \n",
    "            print(\"현재 페이지가 정상적으로 로드 되지 못 하였습니다. 에러 로그에 추가하고 다음 페이지로 넘어가겠습니다.\")\n",
    "            \n",
    "        finally:\n",
    "\n",
    "            print(\"[{}]:   {}번째 페이지까지 완료되었습니다.   예시:{}\".format(urllib.parse.unquote(query), i+1, temp_query_titles[0]))\n",
    "        \n",
    "            time.sleep(random.randint(1, 10))\n",
    "        \n",
    "    korean_set_dic[urllib.parse.unquote(query)] = query_titles\n",
    "    \n",
    "    error_logs_dic[urllib.parse.unquote(query)] = query_error_logs\n",
    "    \n",
    "driver.close()\n",
    "\n",
    "print(\"크롤링이 모두 완료 되었습니다.\")"
   ]
  },
  {
   "cell_type": "code",
   "execution_count": null,
   "metadata": {},
   "outputs": [],
   "source": [
    "korean_set_dic"
   ]
  }
 ],
 "metadata": {
  "celltoolbar": "Slideshow",
  "kernelspec": {
   "display_name": "Python 3",
   "language": "python",
   "name": "python3"
  },
  "language_info": {
   "codemirror_mode": {
    "name": "ipython",
    "version": 3
   },
   "file_extension": ".py",
   "mimetype": "text/x-python",
   "name": "python",
   "nbconvert_exporter": "python",
   "pygments_lexer": "ipython3",
   "version": "3.6.5"
  }
 },
 "nbformat": 4,
 "nbformat_minor": 2
}
