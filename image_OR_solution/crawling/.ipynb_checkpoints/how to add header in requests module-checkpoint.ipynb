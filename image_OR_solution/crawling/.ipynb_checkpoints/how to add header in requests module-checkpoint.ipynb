{
 "cells": [
  {
   "cell_type": "code",
   "execution_count": 30,
   "metadata": {},
   "outputs": [],
   "source": [
    "## 필요한 모듈을 임포트한다.\n",
    "import requests # html\n",
    "import pdb # 디버깅\n",
    "import time # 강제로 코드 휴식\n",
    "from fake_useragent import UserAgent # 가짜 유저 에이전트를 포함하고 있는 모듈\n",
    "from bs4 import BeautifulSoup # request로 반환 받은 html을 soup 객체로 변환\n",
    "from pprint import pprint # 결과를 예쁘게 보여주는 모듈"
   ]
  },
  {
   "cell_type": "code",
   "execution_count": 31,
   "metadata": {},
   "outputs": [],
   "source": [
    "## 유저 에이전트 객체 및 헤더를 생성한다.\n",
    "ua = UserAgent() # 유저 에이전트 객체를 생성한다.\n",
    "\n",
    "headers = {'User-Agent': str(ua.random)} # 유저 에이전트를 랜덤하게 생성하고 header 딕셔너리에 담는다."
   ]
  },
  {
   "cell_type": "code",
   "execution_count": 32,
   "metadata": {},
   "outputs": [],
   "source": [
    "## 구글에 키워드를 검색하고 soup 객체 및 status code를 반환하는 함수를 만든다.\n",
    "def get_html(query):\n",
    "    \n",
    "    # URL 인코딩이 필요한 이유: http://regularmotion.kr/url-encoding-url/\n",
    "    enc_query = urllib.parse.quote(query)\n",
    "    \n",
    "    url = \"https://www.google.co.kr/search?q=\"+ enc_query + \"&newwindow=1&filter=0&biw=1152&bih=610\"\n",
    "\n",
    "    response = requests.get(url, headers=headers)\n",
    "    \n",
    "    if response.status_code == 200:\n",
    "        \n",
    "        print(\"*** 페이지가 정상적으로 로드 되었습니다... ***\\n\")\n",
    "        \n",
    "        parsed = response.text\n",
    "        \n",
    "        soup = BeautifulSoup(parsed, 'html.parser')\n",
    "    \n",
    "    else:\n",
    "        \n",
    "        print(\"*** 페이지가 정상적으로 로드 되지 못 하였습니다... ***\\n\")\n",
    "        \n",
    "        soup = \"\"    \n",
    "    \n",
    "    return (soup, response)"
   ]
  },
  {
   "cell_type": "code",
   "execution_count": 33,
   "metadata": {},
   "outputs": [
    {
     "name": "stdout",
     "output_type": "stream",
     "text": [
      "*** 페이지가 정상적으로 로드 되었습니다... ***\n",
      "\n",
      "['흡연은 수명과 관련 없다? - 브런치',\n",
      " '[담배 만원에 두갑시대] 1개비에 수명 5분 단축…이 기회에 금연해볼까 ...',\n",
      " '“중년 남성 흡연, 수명 10년 단축” : 의료·건강 : 사회 : 뉴스 : 한겨레',\n",
      " '15세에 담배 피우기 시작하면 수명 8년 줄어들어요 - 중앙일보 - 조인스',\n",
      " '담배 한 개비당 11분 생명 단축 - 중앙일보 - 조인스',\n",
      " '“흡연, 남성 13.2년…여성 14.5년 수명 단축”-국민일보',\n",
      " '장기흡연시 10년 수명 단축,금연 일찍할수록 기대수명 회복 - 미주 중앙 ...',\n",
      " '흡연자 vs 비흡연자 평균수명.jpg : MLBPARK',\n",
      " '캐나다 한국일보 : 담배·술… 수명 얼마나 단축하나']\n",
      "\n",
      "텍스트 개수: 9개\n"
     ]
    }
   ],
   "source": [
    "soup, response = get_html(\"흡연 수명\")\n",
    "\n",
    "result = list(map(lambda a_tag: a_tag.text, soup.select(\"h3.r > a\")))\n",
    "\n",
    "pprint(result)\n",
    "\n",
    "print(\"\\n텍스트 개수: {}개\".format(len(result)))"
   ]
  }
 ],
 "metadata": {
  "kernelspec": {
   "display_name": "Python 3",
   "language": "python",
   "name": "python3"
  },
  "language_info": {
   "codemirror_mode": {
    "name": "ipython",
    "version": 3
   },
   "file_extension": ".py",
   "mimetype": "text/x-python",
   "name": "python",
   "nbconvert_exporter": "python",
   "pygments_lexer": "ipython3",
   "version": "3.6.5"
  }
 },
 "nbformat": 4,
 "nbformat_minor": 2
}
