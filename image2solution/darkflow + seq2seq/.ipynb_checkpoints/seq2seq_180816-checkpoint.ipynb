{
 "cells": [
  {
   "cell_type": "markdown",
   "metadata": {},
   "source": [
    "# Implement seq2seq\n",
    "---"
   ]
  },
  {
   "cell_type": "markdown",
   "metadata": {},
   "source": [
    "## 1. 필요한 모듈을 불러온다."
   ]
  },
  {
   "cell_type": "code",
   "execution_count": 2,
   "metadata": {},
   "outputs": [],
   "source": [
    "import tensorflow as tf\n",
    "import numpy as np\n",
    "import pandas as pd\n",
    "from pprint import pprint # print() 함수의 결과를 아름답게(beautify) 보여주는 모듈\n",
    "from tools import * # 직접만든 함수 모음.\n",
    "import math\n",
    "from tqdm import tqdm # 배치학습 for문을 예쁘게 시각화 하는 모듈\n",
    "from tqdm import tqdm_notebook\n",
    "from pulp import * # transportation problem, linear programming과 관련된 모듈\n",
    "\n",
    "tf.reset_default_graph() # 텐서플로우 그래프를 초기화 한다."
   ]
  },
  {
   "cell_type": "markdown",
   "metadata": {},
   "source": [
    "## 2. corpus(YOLO의 output)를 불러온다."
   ]
  },
  {
   "cell_type": "code",
   "execution_count": 3,
   "metadata": {},
   "outputs": [
    {
     "name": "stdout",
     "output_type": "stream",
     "text": [
      "(array([['dallas take off', ' plane take off from dallas'],\n",
      "       ['dallas land', ' plane land at Dallas'],\n",
      "       ['chicago take off', ' plane take off from chicago'],\n",
      "       ['chicago land', ' plane land at chicago'],\n",
      "       ['los angeles take off', ' plane take off from los angeles'],\n",
      "       ['los angeles land', ' plane land at los angeles'],\n",
      "       ['new york take off', ' plane take off from new york'],\n",
      "       ['new york land', ' plane land at new york'],\n",
      "       ['miami take off', ' plane take off from miami'],\n",
      "       ['miami land', ' plane land at miami']], dtype=object), <class 'numpy.ndarray'>)\n",
      "\n",
      "corpus's shape: (10, 2)\n"
     ]
    }
   ],
   "source": [
    "# pandas DataFrame을 numpy.ndarray로 바꾸려면 '.values'만 추가하면 된다.\n",
    "# => pd.read_table(...).values\n",
    "corpus = pd.read_table(\"./raw.csv\", delimiter=\",\").values\n",
    "\n",
    "print((corpus, type(corpus)))\n",
    "print(\"\\ncorpus's shape: {}\".format(corpus.shape))"
   ]
  },
  {
   "cell_type": "markdown",
   "metadata": {},
   "source": [
    "## 3. lookup table를 생성하고 이를 이용하여 데이터를 인덱스로 맵핑한다."
   ]
  },
  {
   "cell_type": "markdown",
   "metadata": {},
   "source": [
    "- seq2seq 모델의 cell은 인풋값으로 index로 된 numpy array나 리스트를 받는다.\n",
    "- tools.make_vocab(numpy.ndarray)\n",
    "    - numpy.ndarray: [batch size x time steps]"
   ]
  },
  {
   "cell_type": "code",
   "execution_count": 4,
   "metadata": {},
   "outputs": [
    {
     "name": "stdout",
     "output_type": "stream",
     "text": [
      "vocab_size: 17 \n",
      "\n",
      "idx2word: \n",
      " {0: 'angeles', 1: 'take', 2: 'land', 3: 'new', 4: 'plane', 5: 'york', 6: 'off', 7: 'los', 8: 'miami', 9: 'dallas', 10: 'chicago', 11: 'from', 12: 'at', 13: '<start>', 14: '<end>', 15: '<pad>', 16: '<unk>'} \n",
      "\n",
      "word2idx: \n",
      " {'angeles': 0, 'take': 1, 'land': 2, 'new': 3, 'plane': 4, 'york': 5, 'off': 6, 'los': 7, 'miami': 8, 'dallas': 9, 'chicago': 10, 'from': 11, 'at': 12, '<start>': 13, '<end>': 14, '<pad>': 15, '<unk>': 16} \n",
      "\n",
      "temp_encoder_data: \n",
      " [[9, 1, 6], [9, 2], [10, 1, 6], [10, 2], [7, 0, 1, 6], [7, 0, 2], [3, 5, 1, 6], [3, 5, 2], [8, 1, 6], [8, 2]] \n",
      "\n",
      "temp_decoder_data: \n",
      " [[4, 1, 6, 11, 9], [4, 2, 12, 9], [4, 1, 6, 11, 10], [4, 2, 12, 10], [4, 1, 6, 11, 7, 0], [4, 2, 12, 7, 0], [4, 1, 6, 11, 3, 5], [4, 2, 12, 3, 5], [4, 1, 6, 11, 8], [4, 2, 12, 8]] \n",
      "\n",
      "temp_targetsr_data: \n",
      " [[4, 1, 6, 11, 9], [4, 2, 12, 9], [4, 1, 6, 11, 10], [4, 2, 12, 10], [4, 1, 6, 11, 7, 0], [4, 2, 12, 7, 0], [4, 1, 6, 11, 3, 5], [4, 2, 12, 3, 5], [4, 1, 6, 11, 8], [4, 2, 12, 8]] \n",
      "\n"
     ]
    }
   ],
   "source": [
    "# Make idx2word, word2idx, vocab_size\n",
    "idx2word, word2idx, vocab_size = make_vocab(corpus)\n",
    "\n",
    "# make_temp_data(numpy.ndarray, idx2word, word2idx)\n",
    "# => corpus를 인덱스 값으로 변환 시킨후 return한다. (<pad>, <start>, <end>, <unk> 토큰은 삽입되지 않음)\n",
    "# Dimension: batch size X time steps\n",
    "temp_encoder_data, temp_decoder_data, temp_targets_data = make_temp_data(corpus, idx2word=idx2word, word2idx=word2idx)\n",
    "\n",
    "# Identify temp_encoder_data, temp_decoder_data, temp_targets_data\n",
    "print('vocab_size: {} \\n'.format(vocab_size))\n",
    "print('idx2word: \\n {} \\n'.format(idx2word))\n",
    "print('word2idx: \\n {} \\n'.format(word2idx))\n",
    "\n",
    "# 패딩 토큰이 삽입되지 않아서 배치마다 time steps의 길이가 다르다. 이후에 수정 해 줄 것이다.\n",
    "print('temp_encoder_data: \\n {} \\n'.format(temp_encoder_data))\n",
    "print('temp_decoder_data: \\n {} \\n'.format(temp_decoder_data))\n",
    "print('temp_targetsr_data: \\n {} \\n'.format(temp_targets_data))"
   ]
  },
  {
   "cell_type": "markdown",
   "metadata": {},
   "source": [
    "## 4. 각 데이터에 pad, end 토큰을 삽입하여 최종적인 데이터를 만든다."
   ]
  },
  {
   "cell_type": "code",
   "execution_count": 5,
   "metadata": {
    "scrolled": true
   },
   "outputs": [],
   "source": [
    "# tools.insert_tokens(numpy.ndarray, word2idx)\n",
    "# => insert_tokens()의 argument numpy.ndarray는 index로 변환 된 데이터를 받는다. 주의하자.\n",
    "# Dimension: batch size X time step\n",
    "encoder_data, decoder_data, targets_data, max_decoder_steps = insert_tokens(temp_encoder_data, temp_decoder_data, temp_targets_data, word2idx)\n",
    "\n",
    "# 최종적인 데이터가 잘 생성 되었는지를 확인하려면 아래 코드를 실행해보자.(옵션)\n",
    "# data_checker(encoder_data, idx2word)\n",
    "# data_checker(decoder_data, idx2word)\n",
    "# data_checker(targets_data, idx2word)"
   ]
  },
  {
   "cell_type": "markdown",
   "metadata": {},
   "source": [
    "## 5. mask를 사용하기 위해서 sequence_length를 구한다."
   ]
  },
  {
   "cell_type": "code",
   "execution_count": 6,
   "metadata": {},
   "outputs": [
    {
     "name": "stdout",
     "output_type": "stream",
     "text": [
      "[3, 2, 3, 2, 4, 3, 4, 3, 3, 2]\n",
      "[6, 5, 6, 5, 7, 6, 7, 6, 6, 5]\n"
     ]
    }
   ],
   "source": [
    "# 각 배치에서 <pad>를 제외한 실제 의미 있는 time steps의 길이를 구한다.\n",
    "# Dimension: batch size(1-D)\n",
    "encoder_sequence_length = sequence_length_maker(encoder_data, word2idx)\n",
    "decoder_sequence_length = sequence_length_maker(decoder_data, word2idx)\n",
    "\n",
    "print(encoder_sequence_length)\n",
    "print(decoder_sequence_length)"
   ]
  },
  {
   "cell_type": "markdown",
   "metadata": {},
   "source": [
    "## 6. 하이퍼파라미터를 정의한다."
   ]
  },
  {
   "cell_type": "code",
   "execution_count": 7,
   "metadata": {},
   "outputs": [],
   "source": [
    "# decoder의 outputs을 projection layer에 통과시키면 batch size X time step X class_size의 dimension을 얻게 된다.\n",
    "# 원-핫 인코딩이면 vocab_size와 같게 해 주어야 한다.\n",
    "class_size = vocab_size\n",
    "batch_size = 3\n",
    "lr = 0.01\n",
    "# seq2seq셀에 흐르는 hidden state의 유닛개수\n",
    "hidden_size = 128\n",
    "epochs = 100\n",
    "save_per_ckpt = 10\n",
    "# stacked RNN을 위한 하이퍼파라미터. 몇개의 레이어를 쌓을지 정해준다.\n",
    "num_layer = 1 "
   ]
  },
  {
   "cell_type": "markdown",
   "metadata": {},
   "source": [
    "## 7. 모델을 클래스로 정의한다."
   ]
  },
  {
   "cell_type": "code",
   "execution_count": 8,
   "metadata": {},
   "outputs": [],
   "source": [
    "class Object2Text:\n",
    "    # 'btc_': 배치\n",
    "    '''\n",
    "    Arguments:\n",
    "        btc_enc_seq_len: placeholder([None,]), 인코더 부분의 패딩을 제외한 실제 의미를 가지는 토큰의 개수를 배치별로 나타냄.\n",
    "        btc_enc_inp: placeholder([None, None]), 인코더의 인풋(batch size, time steps)\n",
    "        btc_dec_seq_len: placeholder([None,]), 디코더 부분의 패딩을 제외한 실제 의미를 가지는 토큰의 개수를 배치별로 나타냄.\n",
    "        btc_dec_inp: placeholder([Noen, None]), 디코더의 인풋(batch size, time steps)\n",
    "        btc_targets: placeholder([None, None]), groud truth(batch size, time steps)\n",
    "        word2idx: dictionary, '단어'를 키 값으로 조회하면 그에 해당하는 인덱스를 돌려주는 딕셔너리.\n",
    "        idx2word: dictionary, '인덱스'를 키 값으로 조회하면 그에 해당하는 인덱스를 돌려주는 딕셔너리.\n",
    "        vocab_size: scalar, 단어사전의 크기(단어사전에 있는 단어의 개수)\n",
    "        class_size: scalar, 디코더의 아웃풋을 fully connected 레이어와 연결하여 최종적으로 몇개의 클래스로 나타낼지 결정. 일반적으로 vocab size와 같게 하면 된다.\n",
    "        hidden_size: scalar, seq2seq 모델의 히든 유닛의 개수\n",
    "    '''\n",
    "    \n",
    "    def __init__(self, btc_enc_seq_len, btc_enc_inp, btc_dec_seq_len, btc_dec_inp, btc_targets, word2idx=word2idx, idx2word=idx2word, \n",
    "                     vocab_size=vocab_size, class_size=class_size, hidden_size=hidden_size, num_layer=num_layer, max_decoder_steps=max_decoder_steps):\n",
    "        \n",
    "        # 생성자의 인자들을 클래스멤버(?)로 만들어준다.\n",
    "        self._enc_seq_len = btc_enc_seq_len\n",
    "        self._enc_inp = btc_enc_inp\n",
    "        self._dec_seq_len = btc_dec_seq_len\n",
    "        self._dec_inp = btc_dec_inp\n",
    "        self._targets = btc_targets\n",
    "        self._word2idx = word2idx\n",
    "        self._idx2word = idx2word\n",
    "        self._vocab_size = vocab_size\n",
    "        self._class_size = class_size\n",
    "        self._hidden_size = hidden_size\n",
    "        self._num_layer = num_layer\n",
    "        self._max_decoder_steps = max_decoder_steps\n",
    "    \n",
    "        # 1) encoder의 인풋값을 ont-hot 인코딩(임베딩) 한다.\n",
    "        with tf.variable_scope('enc_embed_layer'):\n",
    "            encoder_oh = tf.one_hot(indices=self._enc_inp, depth=self._vocab_size) # encoder_oh: tensor, (batch_size, time steps, vocab_size)\n",
    "\n",
    "        #  2) encoder 셀을 쌓는다.\n",
    "        with tf.variable_scope('encoder'):\n",
    "            enc_cell = tf.contrib.rnn.BasicLSTMCell(num_units=self._hidden_size, activation=tf.nn.tanh)\n",
    "            enc_cell = tf.nn.rnn_cell.MultiRNNCell([enc_cell] * self._num_layer)\n",
    "            _outputs, enc_states = tf.nn.dynamic_rnn(cell=enc_cell, inputs=encoder_oh, sequence_length=self._enc_seq_len, dtype=tf.float32)\n",
    "\n",
    "        # 3) 디코더의 임베딩을 원-핫인코딩으로 한다. tf.one_hot 함수를 사용해서 원-핫 인코딩을 해도 되지만. 나중에 GreedyEmbeddingsHelper를 사용하기 위해서는 임베딩 매트릭스를 만들어 주어야 한다.\n",
    "        with tf.variable_scope('dec_embed_layer'):\n",
    "            decoder_eye = tf.eye(num_rows=self._vocab_size)\n",
    "            decoder_embeddings = tf.get_variable(name='dec_embed', initializer=decoder_eye, trainable=False) # tf.nn.embedding_lookup 함수를 사용하려면 tf.get_variable을 params의 값으로\n",
    "\n",
    "            #decoder_embeddings = tf.get_variable(name='dec_embed', initializer=decoder_eye, trainable=False) # tf.nn.embedding_lookup 함수를 사용하려면 tf.get_variable을 params의 값으로\n",
    "            decoder_oh = tf.nn.embedding_lookup(params=decoder_embeddings, ids=self._dec_inp)    \n",
    "\n",
    "        # 4) decoder 셀을 쌓는다.    \n",
    "        with tf.variable_scope('decoder'):\n",
    "            \n",
    "            # decoder cell for both training and inference(학습과 추론과정은 같은 '가중치'를 공유함.)\n",
    "            dec_cell = tf.contrib.rnn.BasicLSTMCell(self._hidden_size, activation=tf.nn.tanh)\n",
    "            dec_cell = tf.nn.rnn_cell.MultiRNNCell([dec_cell] * self._num_layer)\n",
    "            \n",
    "            # Projection layer를 정의한다.\n",
    "            output_layer = tf.layers.Dense(vocab_size)\n",
    "\n",
    "            # 4-1) decoder의 training과 관련된 셀을 쌓는다.\n",
    "            with tf.variable_scope('training'):\n",
    "                train_helper = tf.contrib.seq2seq.TrainingHelper(inputs=decoder_oh, sequence_length=self._dec_seq_len, time_major=False)\n",
    "                train_decoder = tf.contrib.seq2seq.BasicDecoder(cell=dec_cell, helper=train_helper, initial_state=enc_states, output_layer=output_layer)\n",
    "                \n",
    "                # self._train_outputs.rnn_output: [batch_size x max(self._max_decoder_steps) x vocab_size]\n",
    "                # => 각 배치에서 가장 '긴' 값을 2번째 차원의 값으로 가진다는 점을 주의!! seq2seq2 loss 함수를 사용할 때 shape에 주의해야 한다.\n",
    "                # => bucketing과 연관이 있는 것 같은데.... 확실하지는 않다...\n",
    "                self._train_outputs, _, _ = tf.contrib.seq2seq.dynamic_decode(decoder=train_decoder, impute_finished=True, output_time_major=False, \n",
    "                                                                                                                maximum_iterations=self._max_decoder_steps)\n",
    "                \n",
    "                # logits: [batch_size x max_dec_step x dec_vocab_size]\n",
    "                # => tf.identity: seq2seq 함수에서 logits에 들어갈 값 선언. tf.identity는 tensor의 contents와 shape를 똑같이 copy한다.\n",
    "                logits = tf.identity(self._train_outputs.rnn_output, name='logits')\n",
    "                \n",
    "                # btc_max_len: => logits의 shape에 맞춰주기 위함!!\n",
    "                # => decoder input \"배치\" 중에서  최대 sequence length(의미 있는 인풋이 들어오는 time step)\n",
    "                btc_max_len = tf.reduce_max(self._dec_seq_len, name='max_dec_len')\n",
    "                \n",
    "                # targets: \n",
    "                targets = tf.slice(input_=self._targets, begin=[0, 0], size=[-1, btc_max_len], name='targets')\n",
    "                              \n",
    "\n",
    "            # 4-2) decoder의 inference와 관련된 셀을 쌓는다.\n",
    "            with tf.variable_scope('inference'):\n",
    "                # 모델의 input을 dynamic shape로 하였으므로.. tf.shape(btc_enc_seq_len)로 해야 한다. btc_enc_seq_len.shape는 static shape일 때 사용 하는 것이다.\n",
    "                start_tokens = tf.fill(dims=tf.shape(btc_enc_seq_len), value=self._word2idx['<start>'])\n",
    "\n",
    "                infer_helper = tf.contrib.seq2seq.GreedyEmbeddingHelper(embedding=decoder_embeddings, \n",
    "                                                                                                              start_tokens=start_tokens, \n",
    "                                                                                                              end_token=self._word2idx['<end>'])\n",
    "                infer_decoder = tf.contrib.seq2seq.BasicDecoder(cell=dec_cell, helper=infer_helper, initial_state=enc_states, output_layer=output_layer)\n",
    "                self._infer_outputs, _, _ = tf.contrib.seq2seq.dynamic_decode(infer_decoder, impute_finished=True, maximum_iterations=self._max_decoder_steps)\n",
    "        \n",
    "        with tf.variable_scope('seq2seq_loss'):\n",
    "            # masksing: [batch_size x max_dec_len]\n",
    "            # => ignore outputs after `dec_senquence_length+1` when calculating loss\n",
    "            masking = tf.sequence_mask(lengths=self._dec_seq_len, maxlen=btc_max_len, dtype=tf.float32)\n",
    "                \n",
    "            # internal: `tf.nn.sparse_softmax_cross_entropy_with_logits`\n",
    "            self.seq2seq_loss = tf.contrib.seq2seq.sequence_loss(logits=logits, targets=targets, weights=masking)\n",
    "            \n",
    "    def infer(self, sess,  btc_enc_seq_len, btc_enc_inp):\n",
    "        feed_infer = {self._enc_seq_len: btc_enc_seq_len, self._enc_inp: btc_enc_inp}\n",
    "        return sess.run(self._infer_outputs.sample_id, feed_dict=feed_infer)            "
   ]
  },
  {
   "cell_type": "markdown",
   "metadata": {},
   "source": [
    "## 8. 배치 관련 설정을 한다."
   ]
  },
  {
   "cell_type": "code",
   "execution_count": 9,
   "metadata": {
    "scrolled": true
   },
   "outputs": [
    {
     "name": "stdout",
     "output_type": "stream",
     "text": [
      "<BatchDataset shapes: ((?,), (?, ?), (?,), (?, ?), (?, ?)), types: (tf.int32, tf.int32, tf.int32, tf.int32, tf.int32)>\n",
      "Tensor(\"IteratorGetNext:0\", shape=(?,), dtype=int32) Tensor(\"IteratorGetNext:1\", shape=(?, ?), dtype=int32) Tensor(\"IteratorGetNext:2\", shape=(?,), dtype=int32) Tensor(\"IteratorGetNext:3\", shape=(?, ?), dtype=int32) Tensor(\"IteratorGetNext:4\", shape=(?, ?), dtype=int32)\n"
     ]
    }
   ],
   "source": [
    "# 인풋, 타겟, sequence_length와 관련된 placeholder를 정의한다.\n",
    "encoder_input = tf.placeholder(dtype=tf.int32, shape=[None, None]) # (batch size, time steps)\n",
    "decoder_input = tf.placeholder(tf.int32, [None, None]) # (batch size, time steps)\n",
    "targets = tf.placeholder(tf.int32, [None, None]) # (batch size, time steps)\n",
    "encoder_seq_len = tf.placeholder(tf.int32, [None]) # (batch size, ) 인코더 배치에 대응하는 sequence_length\n",
    "decoder_seq_len = tf.placeholder(tf.int32, [None]) # (batch size,) 디코더 배치에 대응하는 sequence_length\n",
    "\n",
    "# 배치 iterator를 정의하여 학습시 사용할 준비를 한다.\n",
    "dataset = tf.data.Dataset.from_tensor_slices((encoder_seq_len, encoder_input, decoder_seq_len, decoder_input, targets)) # 여러 플레이스 홀더를 데이터셋으로 하고\n",
    "dataset = dataset.shuffle(10000).batch(batch_size) # 랜덤으로 데이터셋을 섞은 다음에 배치크기는 미리 정의된 만큼 할 생각이야.\n",
    "iterator = dataset.make_initializable_iterator() # 위와 같은 사항을 반영하여 전체 데이터셋에서 배치 크기만큼 반복적으로 꺼내올 수 있는 iterator를 만들어 줘.\n",
    "btc_enc_seq_len, btc_enc_inp, btc_dec_seq_len, btc_dec_inp, btc_targets  = iterator.get_next() # 배치를 꺼내오는 명령문은 next_batch로 할게. (sess.run에서 실행 시켜야 다음 배치를 꺼내온다.)\n",
    "\n",
    "print(dataset)\n",
    "print(btc_enc_seq_len, btc_enc_inp, btc_dec_seq_len, btc_dec_inp, btc_targets)"
   ]
  },
  {
   "cell_type": "markdown",
   "metadata": {},
   "source": [
    "## 9. object2text 클래스를 생성한다."
   ]
  },
  {
   "cell_type": "code",
   "execution_count": 10,
   "metadata": {},
   "outputs": [],
   "source": [
    "# Object2Text 객체의 argument들은 placeholder임을 명심하자.\n",
    "object2text = Object2Text(btc_enc_seq_len, btc_enc_inp, btc_dec_seq_len, btc_dec_inp, btc_targets)"
   ]
  },
  {
   "cell_type": "markdown",
   "metadata": {},
   "source": [
    "## 10. optimizer를 정의하고 모델을 학습시킨다."
   ]
  },
  {
   "cell_type": "code",
   "execution_count": 11,
   "metadata": {},
   "outputs": [],
   "source": [
    "train_op = tf.train.AdamOptimizer(lr).minimize(object2text.seq2seq_loss)"
   ]
  },
  {
   "cell_type": "code",
   "execution_count": 12,
   "metadata": {},
   "outputs": [
    {
     "name": "stderr",
     "output_type": "stream",
     "text": [
      "Epoch 1/100: 100%|██████████| 4/4 [00:00<00:00, 11.03it/s, batch loss=2.61]\n",
      "Epoch 2/100: 100%|██████████| 4/4 [00:00<00:00, 99.83it/s, batch loss=2.22]\n",
      "Epoch 3/100: 100%|██████████| 4/4 [00:00<00:00, 90.16it/s, batch loss=1.3]\n",
      "Epoch 4/100: 100%|██████████| 4/4 [00:00<00:00, 93.95it/s, batch loss=0.838]\n",
      "Epoch 5/100: 100%|██████████| 4/4 [00:00<00:00, 105.63it/s, batch loss=1.06]\n",
      "Epoch 6/100: 100%|██████████| 4/4 [00:00<00:00, 103.31it/s, batch loss=0.816]\n",
      "Epoch 7/100: 100%|██████████| 4/4 [00:00<00:00, 100.62it/s, batch loss=0.527]\n",
      "Epoch 8/100: 100%|██████████| 4/4 [00:00<00:00, 107.08it/s, batch loss=0.643]\n",
      "Epoch 9/100: 100%|██████████| 4/4 [00:00<00:00, 102.80it/s, batch loss=0.512]\n",
      "Epoch 10/100: 100%|██████████| 4/4 [00:00<00:00, 101.31it/s, batch loss=0.348]\n",
      "Epoch 11/100: 100%|██████████| 4/4 [00:00<00:00, 99.71it/s, batch loss=0.186]\n",
      "Epoch 12/100: 100%|██████████| 4/4 [00:00<00:00, 101.66it/s, batch loss=0.129]\n",
      "Epoch 13/100: 100%|██████████| 4/4 [00:00<00:00, 101.78it/s, batch loss=0.172]\n",
      "Epoch 14/100: 100%|██████████| 4/4 [00:00<00:00, 102.59it/s, batch loss=0.347]\n",
      "Epoch 15/100: 100%|██████████| 4/4 [00:00<00:00, 104.30it/s, batch loss=0.278]\n",
      "Epoch 16/100: 100%|██████████| 4/4 [00:00<00:00, 105.31it/s, batch loss=0.178]\n",
      "Epoch 17/100: 100%|██████████| 4/4 [00:00<00:00, 103.79it/s, batch loss=0.0994]\n",
      "Epoch 18/100: 100%|██████████| 4/4 [00:00<00:00, 105.67it/s, batch loss=0.123]\n",
      "Epoch 19/100: 100%|██████████| 4/4 [00:00<00:00, 99.81it/s, batch loss=0.238]\n",
      "Epoch 20/100: 100%|██████████| 4/4 [00:00<00:00, 102.72it/s, batch loss=0.0616]\n",
      "Epoch 21/100: 100%|██████████| 4/4 [00:00<00:00, 104.42it/s, batch loss=0.131]\n",
      "Epoch 22/100: 100%|██████████| 4/4 [00:00<00:00, 103.98it/s, batch loss=0.0653]\n",
      "Epoch 23/100: 100%|██████████| 4/4 [00:00<00:00, 86.37it/s, batch loss=0.0265]\n",
      "Epoch 24/100: 100%|██████████| 4/4 [00:00<00:00, 101.69it/s, batch loss=0.0777]\n",
      "Epoch 25/100: 100%|██████████| 4/4 [00:00<00:00, 103.11it/s, batch loss=0.0463]\n",
      "Epoch 26/100: 100%|██████████| 4/4 [00:00<00:00, 102.40it/s, batch loss=0.025]\n",
      "Epoch 27/100: 100%|██████████| 4/4 [00:00<00:00, 104.88it/s, batch loss=0.0726]\n",
      "Epoch 28/100: 100%|██████████| 4/4 [00:00<00:00, 104.54it/s, batch loss=0.0285]\n",
      "Epoch 29/100: 100%|██████████| 4/4 [00:00<00:00, 101.52it/s, batch loss=0.024]\n",
      "Epoch 30/100: 100%|██████████| 4/4 [00:00<00:00, 102.17it/s, batch loss=0.00726]\n",
      "Epoch 31/100: 100%|██████████| 4/4 [00:00<00:00, 102.88it/s, batch loss=0.0146]\n",
      "Epoch 32/100: 100%|██████████| 4/4 [00:00<00:00, 95.95it/s, batch loss=0.00993]\n",
      "Epoch 33/100: 100%|██████████| 4/4 [00:00<00:00, 91.97it/s, batch loss=0.00739]\n",
      "Epoch 34/100: 100%|██████████| 4/4 [00:00<00:00, 100.69it/s, batch loss=0.0109]\n",
      "Epoch 35/100: 100%|██████████| 4/4 [00:00<00:00, 110.72it/s, batch loss=0.00573]\n",
      "Epoch 36/100: 100%|██████████| 4/4 [00:00<00:00, 110.22it/s, batch loss=0.00537]\n",
      "Epoch 37/100: 100%|██████████| 4/4 [00:00<00:00, 99.33it/s, batch loss=0.00267]\n",
      "Epoch 38/100: 100%|██████████| 4/4 [00:00<00:00, 105.42it/s, batch loss=0.0031]\n",
      "Epoch 39/100: 100%|██████████| 4/4 [00:00<00:00, 103.05it/s, batch loss=0.00374]\n",
      "Epoch 40/100: 100%|██████████| 4/4 [00:00<00:00, 104.27it/s, batch loss=0.00244]\n",
      "Epoch 41/100: 100%|██████████| 4/4 [00:00<00:00, 107.67it/s, batch loss=0.00218]\n",
      "Epoch 42/100: 100%|██████████| 4/4 [00:00<00:00, 105.33it/s, batch loss=0.00195]\n",
      "Epoch 43/100: 100%|██████████| 4/4 [00:00<00:00, 104.64it/s, batch loss=0.00346]\n",
      "Epoch 44/100: 100%|██████████| 4/4 [00:00<00:00, 99.52it/s, batch loss=0.00265]\n",
      "Epoch 45/100: 100%|██████████| 4/4 [00:00<00:00, 104.16it/s, batch loss=0.00221]\n",
      "Epoch 46/100: 100%|██████████| 4/4 [00:00<00:00, 104.24it/s, batch loss=0.003]\n",
      "Epoch 47/100: 100%|██████████| 4/4 [00:00<00:00, 101.58it/s, batch loss=0.00136]\n",
      "Epoch 48/100: 100%|██████████| 4/4 [00:00<00:00, 101.61it/s, batch loss=0.00396]\n",
      "Epoch 49/100: 100%|██████████| 4/4 [00:00<00:00, 102.67it/s, batch loss=0.00174]\n",
      "Epoch 50/100: 100%|██████████| 4/4 [00:00<00:00, 98.53it/s, batch loss=0.0021]\n",
      "Epoch 51/100: 100%|██████████| 4/4 [00:00<00:00, 107.92it/s, batch loss=0.00157]\n",
      "Epoch 52/100: 100%|██████████| 4/4 [00:00<00:00, 105.52it/s, batch loss=0.00228]\n",
      "Epoch 53/100: 100%|██████████| 4/4 [00:00<00:00, 103.28it/s, batch loss=0.00178]\n",
      "Epoch 54/100: 100%|██████████| 4/4 [00:00<00:00, 106.13it/s, batch loss=0.00283]\n",
      "Epoch 55/100: 100%|██████████| 4/4 [00:00<00:00, 99.07it/s, batch loss=0.00192]\n",
      "Epoch 56/100: 100%|██████████| 4/4 [00:00<00:00, 102.19it/s, batch loss=0.00153]\n",
      "Epoch 57/100: 100%|██████████| 4/4 [00:00<00:00, 101.64it/s, batch loss=0.00121]\n",
      "Epoch 58/100: 100%|██████████| 4/4 [00:00<00:00, 102.22it/s, batch loss=0.000911]\n",
      "Epoch 59/100: 100%|██████████| 4/4 [00:00<00:00, 103.74it/s, batch loss=0.00132]\n",
      "Epoch 60/100: 100%|██████████| 4/4 [00:00<00:00, 104.52it/s, batch loss=0.0022]\n",
      "Epoch 61/100: 100%|██████████| 4/4 [00:00<00:00, 103.60it/s, batch loss=0.00102]\n",
      "Epoch 62/100: 100%|██████████| 4/4 [00:00<00:00, 106.39it/s, batch loss=0.0008]\n",
      "Epoch 63/100: 100%|██████████| 4/4 [00:00<00:00, 101.51it/s, batch loss=0.00139]\n",
      "Epoch 64/100: 100%|██████████| 4/4 [00:00<00:00, 108.24it/s, batch loss=0.001]\n",
      "Epoch 65/100: 100%|██████████| 4/4 [00:00<00:00, 101.85it/s, batch loss=0.0011]\n",
      "Epoch 66/100: 100%|██████████| 4/4 [00:00<00:00, 108.62it/s, batch loss=0.00126]\n",
      "Epoch 67/100: 100%|██████████| 4/4 [00:00<00:00, 110.89it/s, batch loss=0.000688]\n",
      "Epoch 68/100: 100%|██████████| 4/4 [00:00<00:00, 110.96it/s, batch loss=0.00126]\n",
      "Epoch 69/100: 100%|██████████| 4/4 [00:00<00:00, 115.45it/s, batch loss=0.00173]\n",
      "Epoch 70/100: 100%|██████████| 4/4 [00:00<00:00, 114.22it/s, batch loss=0.000854]\n",
      "Epoch 71/100: 100%|██████████| 4/4 [00:00<00:00, 124.57it/s, batch loss=0.00095]\n",
      "Epoch 72/100: 100%|██████████| 4/4 [00:00<00:00, 119.54it/s, batch loss=0.000881]\n",
      "Epoch 73/100: 100%|██████████| 4/4 [00:00<00:00, 126.94it/s, batch loss=0.000743]\n",
      "Epoch 74/100: 100%|██████████| 4/4 [00:00<00:00, 78.98it/s, batch loss=0.00104]\n",
      "Epoch 75/100: 100%|██████████| 4/4 [00:00<00:00, 106.66it/s, batch loss=0.000747]\n",
      "Epoch 76/100: 100%|██████████| 4/4 [00:00<00:00, 96.88it/s, batch loss=0.000797]\n",
      "Epoch 77/100: 100%|██████████| 4/4 [00:00<00:00, 108.20it/s, batch loss=0.000938]\n",
      "Epoch 78/100: 100%|██████████| 4/4 [00:00<00:00, 103.24it/s, batch loss=0.000898]\n",
      "Epoch 79/100: 100%|██████████| 4/4 [00:00<00:00, 99.32it/s, batch loss=0.00122]\n",
      "Epoch 80/100: 100%|██████████| 4/4 [00:00<00:00, 104.26it/s, batch loss=0.000829]\n",
      "Epoch 81/100: 100%|██████████| 4/4 [00:00<00:00, 104.40it/s, batch loss=0.00116]\n",
      "Epoch 82/100: 100%|██████████| 4/4 [00:00<00:00, 110.13it/s, batch loss=0.000751]\n",
      "Epoch 83/100: 100%|██████████| 4/4 [00:00<00:00, 105.80it/s, batch loss=0.000599]\n",
      "Epoch 84/100: 100%|██████████| 4/4 [00:00<00:00, 101.16it/s, batch loss=0.000737]\n",
      "Epoch 85/100: 100%|██████████| 4/4 [00:00<00:00, 104.92it/s, batch loss=0.000566]\n",
      "Epoch 86/100: 100%|██████████| 4/4 [00:00<00:00, 108.19it/s, batch loss=0.000548]\n",
      "Epoch 87/100: 100%|██████████| 4/4 [00:00<00:00, 105.21it/s, batch loss=0.000464]\n",
      "Epoch 88/100: 100%|██████████| 4/4 [00:00<00:00, 109.37it/s, batch loss=0.000671]\n",
      "Epoch 89/100: 100%|██████████| 4/4 [00:00<00:00, 110.00it/s, batch loss=0.000714]\n",
      "Epoch 90/100: 100%|██████████| 4/4 [00:00<00:00, 104.48it/s, batch loss=0.000681]\n",
      "Epoch 91/100: 100%|██████████| 4/4 [00:00<00:00, 111.44it/s, batch loss=0.000476]\n",
      "Epoch 92/100: 100%|██████████| 4/4 [00:00<00:00, 112.54it/s, batch loss=0.00112]\n",
      "Epoch 93/100: 100%|██████████| 4/4 [00:00<00:00, 109.54it/s, batch loss=0.000414]\n",
      "Epoch 94/100: 100%|██████████| 4/4 [00:00<00:00, 106.69it/s, batch loss=0.000533]\n",
      "Epoch 95/100: 100%|██████████| 4/4 [00:00<00:00, 109.97it/s, batch loss=0.00102]\n",
      "Epoch 96/100: 100%|██████████| 4/4 [00:00<00:00, 101.76it/s, batch loss=0.000986]\n",
      "Epoch 97/100: 100%|██████████| 4/4 [00:00<00:00, 106.19it/s, batch loss=0.000491]\n",
      "Epoch 98/100: 100%|██████████| 4/4 [00:00<00:00, 108.05it/s, batch loss=0.000593]\n",
      "Epoch 99/100: 100%|██████████| 4/4 [00:00<00:00, 111.10it/s, batch loss=0.000806]\n",
      "Epoch 100/100: 100%|██████████| 4/4 [00:00<00:00, 112.85it/s, batch loss=0.000567]\n"
     ]
    }
   ],
   "source": [
    "num_batch = math.ceil(encoder_data.shape[0] / batch_size)\n",
    "\n",
    "sess = tf.Session() # 정의된 node와 operation들을 세션(그래프)에 할당한다.\n",
    "sess.run(tf.global_variables_initializer()) # 변수(가중치가 학습되는 노드)를 초기화 한다. (필수!!)\n",
    "\n",
    "epoc_loss_hist=[] # 에포크 당 loss를 저장하기 위한 리스트를 만든다.\n",
    "\n",
    "for epoch in range(epochs):\n",
    "        \n",
    "    # iterator.initalizer를 반복문 안에 넣어줘야 배치를 다 꺼내 쓴 다음에 다시 배치를 쓸 수 있다. \n",
    "    # 만약 아래 코드를 반복문 바깥에 두면 계속 OutOfRangeError 에러가 난다. (배치를 다 꺼내 썼는데 또 꺼내려고하면.. 당연히 에러!)\n",
    "    #  \n",
    "    sess.run(iterator.initializer, feed_dict={encoder_input: encoder_data, decoder_input: decoder_data,\n",
    "                                              targets: targets_data, encoder_seq_len: encoder_sequence_length, \n",
    "                                              decoder_seq_len: decoder_sequence_length})\n",
    "    \n",
    "    batch_loss_hist = []\n",
    "    \n",
    "    pbar = tqdm(range(num_batch)) # 배치 개수만큼 반복하는 progress bar 객체를 만든다. \n",
    "    \n",
    "    for i in pbar:\n",
    "\n",
    "        pbar.set_description(\"Epoch {}/{}\".format(epoch +1, epochs))\n",
    "        \n",
    "        _, loss = sess.run([train_op, object2text.seq2seq_loss])\n",
    "               \n",
    "        pbar.set_postfix({\"batch loss\": loss})\n",
    "        batch_loss_hist.append(loss)\n",
    "    \n",
    "    epoc_loss_hist.append(sum(batch_loss_hist) / num_batch)"
   ]
  },
  {
   "cell_type": "code",
   "execution_count": 13,
   "metadata": {},
   "outputs": [
    {
     "name": "stdout",
     "output_type": "stream",
     "text": [
      "MIN Loss: 0.000576666061533615 (100 epoch)\n"
     ]
    }
   ],
   "source": [
    "print(\"MIN Loss: {} ({} epoch)\".format(min(epoc_loss_hist), epoc_loss_hist.index(min(epoc_loss_hist)) + 1))"
   ]
  },
  {
   "cell_type": "markdown",
   "metadata": {},
   "source": [
    "## 11. 학습된 가중치가 저장된 sess를 통해서 inference를 한다."
   ]
  },
  {
   "cell_type": "code",
   "execution_count": 14,
   "metadata": {},
   "outputs": [],
   "source": [
    "prediction = object2text.infer(sess, btc_enc_inp=encoder_data, btc_enc_seq_len=encoder_sequence_length)"
   ]
  },
  {
   "cell_type": "code",
   "execution_count": 15,
   "metadata": {},
   "outputs": [
    {
     "name": "stdout",
     "output_type": "stream",
     "text": [
      "[[ 4  1  6 11  9 14  0]\n",
      " [ 4  2 12  9 14  0  0]\n",
      " [ 4  1  6 11 10 14  0]\n",
      " [ 4  2 12 10 14  0  0]\n",
      " [ 4  1  6 11  7  0 14]\n",
      " [ 4  2 12  7  0 14  0]\n",
      " [ 4  1  6 11  3  5 14]\n",
      " [ 4  2 12  3  5 14  0]\n",
      " [ 4  1  6 11  8 14  0]\n",
      " [ 4  2 12  8 14  0  0]]\n"
     ]
    }
   ],
   "source": [
    "print(prediction)"
   ]
  },
  {
   "cell_type": "code",
   "execution_count": 16,
   "metadata": {},
   "outputs": [
    {
     "data": {
      "text/plain": [
       "[['plane', 'take', 'off', 'from', 'dallas', '<end>', 'angeles'],\n",
       " ['plane', 'land', 'at', 'dallas', '<end>', 'angeles', 'angeles'],\n",
       " ['plane', 'take', 'off', 'from', 'chicago', '<end>', 'angeles'],\n",
       " ['plane', 'land', 'at', 'chicago', '<end>', 'angeles', 'angeles'],\n",
       " ['plane', 'take', 'off', 'from', 'los', 'angeles', '<end>'],\n",
       " ['plane', 'land', 'at', 'los', 'angeles', '<end>', 'angeles'],\n",
       " ['plane', 'take', 'off', 'from', 'new', 'york', '<end>'],\n",
       " ['plane', 'land', 'at', 'new', 'york', '<end>', 'angeles'],\n",
       " ['plane', 'take', 'off', 'from', 'miami', '<end>', 'angeles'],\n",
       " ['plane', 'land', 'at', 'miami', '<end>', 'angeles', 'angeles']]"
      ]
     },
     "execution_count": 16,
     "metadata": {},
     "output_type": "execute_result"
    }
   ],
   "source": [
    "list(map(lambda row: [idx2word[idx] for idx in row], prediction))"
   ]
  },
  {
   "cell_type": "markdown",
   "metadata": {},
   "source": [
    "DB에서 query를 통해 데이터를 꺼내온다."
   ]
  },
  {
   "cell_type": "code",
   "execution_count": null,
   "metadata": {},
   "outputs": [],
   "source": []
  },
  {
   "cell_type": "markdown",
   "metadata": {},
   "source": [
    "The start of the formulation is a simple definition of the nodes and their limits/capacities. The node names are put into lists, and their associated capacities are put into dictionaries with the node names as the reference keys:\n",
    "\n",
    "https://www.coin-or.org/PuLP/CaseStudies/a_transportation_problem.html"
   ]
  },
  {
   "cell_type": "code",
   "execution_count": 61,
   "metadata": {},
   "outputs": [],
   "source": [
    "# supply node의 이름을 리스트 형태로 만든다.\n",
    "warehouses = ['A', 'B']\n",
    "\n",
    "# supply node의 공급량을 딕셔너리 형태로 정의한다.\n",
    "supply = {'A': 1000, 'B': 4000}\n",
    "\n",
    "# demand node의 이름을 리스트 형태로 만든다.\n",
    "bars = ['1', '2', '3', '4', '5']\n",
    "\n",
    "#demand node의 수요량을 딕셔너리 형태로 정의한다.\n",
    "demand = {'1': 500, '2': 900, '3': 180, '4': 200, '5': 700}"
   ]
  },
  {
   "cell_type": "code",
   "execution_count": 62,
   "metadata": {},
   "outputs": [
    {
     "name": "stdout",
     "output_type": "stream",
     "text": [
      "{'A': {'1': 2, '2': 4, '3': 5, '4': 2, '5': 1}, 'B': {'1': 3, '2': 1, '3': 3, '4': 2, '5': 3}}\n",
      "Beer Distribution Problem:\n",
      "MINIMIZE\n",
      "None\n",
      "VARIABLES\n",
      "\n",
      "[('A', '1'), ('A', '2'), ('A', '3'), ('A', '4'), ('A', '5'), ('B', '1'), ('B', '2'), ('B', '3'), ('B', '4'), ('B', '5')]\n",
      "{'A': {'1': Route_A_1, '2': Route_A_2, '3': Route_A_3, '4': Route_A_4, '5': Route_A_5}, 'B': {'1': Route_B_1, '2': Route_B_2, '3': Route_B_3, '4': Route_B_4, '5': Route_B_5}}\n"
     ]
    }
   ],
   "source": [
    "# 각 경로의 cost가 정의된 리스트를 만든다.\n",
    "costs = [[2, 4, 5, 2, 1],\n",
    "             [3, 1, 3, 2, 3]]\n",
    "costs = makeDict([warehouses, bars], costs)\n",
    "print(costs)\n",
    "\n",
    "# Creates the prob variable to contain the problem data\n",
    "# LpMinimize or LpMaximize\n",
    "# 우리 문제는 비용의 '최소화(minimize)'가 objective이므로 LpMinimize로 한다.\n",
    "prob = LpProblem(name=\"Beer Distribution Problem\", sense=LpMinimize)\n",
    "print(prob)\n",
    "\n",
    "# Creates a list of tuples containing all the possible routes for transport\n",
    "routes = [(w,b) for w in warehouses for b in bars]\n",
    "print(routes)\n",
    "\n",
    "# A dictionary called route_vars is created to contain the referenced variables (the routes)\n",
    "# 각 경로에 흐르는 제품의 양(Xij)를 placeholder 느낌으로 정의해 주는 부분.\n",
    "route_vars = LpVariable.dicts(name=\"Route\", indexs=(warehouses, bars), lowBound=0, upBound=None, cat=LpInteger) \n",
    "print(route_vars)"
   ]
  },
  {
   "cell_type": "code",
   "execution_count": 63,
   "metadata": {},
   "outputs": [
    {
     "name": "stdout",
     "output_type": "stream",
     "text": [
      "Beer Distribution Problem:\n",
      "MINIMIZE\n",
      "2*Route_A_1 + 4*Route_A_2 + 5*Route_A_3 + 2*Route_A_4 + 1*Route_A_5 + 3*Route_B_1 + 1*Route_B_2 + 3*Route_B_3 + 2*Route_B_4 + 3*Route_B_5 + 0\n",
      "SUBJECT TO\n",
      "_C1: Route_A_1 + Route_A_2 + Route_A_3 + Route_A_4 + Route_A_5 <= 1000\n",
      "\n",
      "_C2: Route_B_1 + Route_B_2 + Route_B_3 + Route_B_4 + Route_B_5 <= 4000\n",
      "\n",
      "_C3: Route_A_1 + Route_B_1 >= 500\n",
      "\n",
      "_C4: Route_A_2 + Route_B_2 >= 900\n",
      "\n",
      "_C5: Route_A_3 + Route_B_3 >= 180\n",
      "\n",
      "_C6: Route_A_4 + Route_B_4 >= 200\n",
      "\n",
      "_C7: Route_A_5 + Route_B_5 >= 700\n",
      "\n",
      "VARIABLES\n",
      "0 <= Route_A_1 Integer\n",
      "0 <= Route_A_2 Integer\n",
      "0 <= Route_A_3 Integer\n",
      "0 <= Route_A_4 Integer\n",
      "0 <= Route_A_5 Integer\n",
      "0 <= Route_B_1 Integer\n",
      "0 <= Route_B_2 Integer\n",
      "0 <= Route_B_3 Integer\n",
      "0 <= Route_B_4 Integer\n",
      "0 <= Route_B_5 Integer\n",
      "\n"
     ]
    }
   ],
   "source": [
    "# The objective function is added to prob first\n",
    "prob += lpSum([route_vars[w][b] * costs[w][b] for (w, b) in routes]) # \"Sum of Transporting Costs\"\n",
    "\n",
    "# The supply maximum constraints are added to prob for each supply node (warehouse)\n",
    "for w in warehouses:\n",
    "    prob += lpSum([route_vars[w][b] for b in bars]) <= supply[w]\n",
    "    \n",
    "# The demand minimum constraints are added to prob for each demand node (bar)\n",
    "for b in bars:\n",
    "    prob += lpSum([route_vars[w][b] for w in warehouses]) >= demand[b]\n",
    "\n",
    "print(prob)"
   ]
  },
  {
   "cell_type": "code",
   "execution_count": 64,
   "metadata": {},
   "outputs": [],
   "source": [
    "# 완성된 transportation modeldmf 저장한다.\n",
    "prob.writeLP(\"test\") "
   ]
  },
  {
   "cell_type": "code",
   "execution_count": 183,
   "metadata": {},
   "outputs": [
    {
     "name": "stdout",
     "output_type": "stream",
     "text": [
      "status = Optimal\n",
      "Total Cost =  3740.0\n"
     ]
    }
   ],
   "source": [
    "status = prob.solve()\n",
    "res_dic = {var: var.varValue for var in prob.variables()}\n",
    "result = pd.DataFrame({'routes': list(res_dic.keys()) + ['Total cost'], 'quantity': list(res_dic.values()) + [value(prob.objective)]})\n",
    "result.to_excel(\"/Users/ku/Desktop/test2.xlsx\", \"solution\", index=False)"
   ]
  },
  {
   "cell_type": "code",
   "execution_count": 185,
   "metadata": {},
   "outputs": [
    {
     "ename": "AssertionError",
     "evalue": "",
     "output_type": "error",
     "traceback": [
      "\u001b[0;31m---------------------------------------------------------------------------\u001b[0m",
      "\u001b[0;31mAssertionError\u001b[0m                            Traceback (most recent call last)",
      "\u001b[0;32m<ipython-input-185-07aa7e0c449f>\u001b[0m in \u001b[0;36m<module>\u001b[0;34m()\u001b[0m\n\u001b[1;32m      1\u001b[0m \u001b[0;31m# 저장된 엑셀 파일을 화면에 띄운다.\u001b[0m\u001b[0;34m\u001b[0m\u001b[0;34m\u001b[0m\u001b[0m\n\u001b[1;32m      2\u001b[0m \u001b[0;32mimport\u001b[0m \u001b[0mos\u001b[0m\u001b[0;34m\u001b[0m\u001b[0m\n\u001b[0;32m----> 3\u001b[0;31m \u001b[0;32massert\u001b[0m\u001b[0;34m(\u001b[0m\u001b[0mos\u001b[0m\u001b[0;34m.\u001b[0m\u001b[0msystem\u001b[0m\u001b[0;34m(\u001b[0m\u001b[0;34m\"open -a '/Applications/Microsoft Excel.app' '/Users/ku/Desktop/test2.xlsx'\"\u001b[0m\u001b[0;34m)\u001b[0m\u001b[0;34m)\u001b[0m\u001b[0;34m\u001b[0m\u001b[0m\n\u001b[0m",
      "\u001b[0;31mAssertionError\u001b[0m: "
     ]
    }
   ],
   "source": [
    "# 저장된 엑셀 파일을 화면에 띄운다.\n",
    "import os\n",
    "os.system(\"open -a '/Applications/Microsoft Excel.app' '/Users/ku/Desktop/test2.xlsx'\")"
   ]
  }
 ],
 "metadata": {
  "kernelspec": {
   "display_name": "Python 3",
   "language": "python",
   "name": "python3"
  },
  "language_info": {
   "codemirror_mode": {
    "name": "ipython",
    "version": 3
   },
   "file_extension": ".py",
   "mimetype": "text/x-python",
   "name": "python",
   "nbconvert_exporter": "python",
   "pygments_lexer": "ipython3",
   "version": "3.6.5"
  }
 },
 "nbformat": 4,
 "nbformat_minor": 2
}
